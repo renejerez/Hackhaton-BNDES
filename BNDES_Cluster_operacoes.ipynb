{
  "nbformat": 4,
  "nbformat_minor": 0,
  "metadata": {
    "colab": {
      "name": "BNDES_Cluster_operacoes.ipynb",
      "provenance": [],
      "collapsed_sections": [],
      "authorship_tag": "ABX9TyMOg+HWCIo6fPmypk6jwZKZ",
      "include_colab_link": true
    },
    "kernelspec": {
      "name": "python3",
      "display_name": "Python 3"
    },
    "language_info": {
      "name": "python"
    }
  },
  "cells": [
    {
      "cell_type": "markdown",
      "metadata": {
        "id": "view-in-github",
        "colab_type": "text"
      },
      "source": [
        "<a href=\"https://colab.research.google.com/github/MaksonViini/Hackhaton-BNDES/blob/develop/BNDES_Cluster_operacoes.ipynb\" target=\"_parent\"><img src=\"https://colab.research.google.com/assets/colab-badge.svg\" alt=\"Open In Colab\"/></a>"
      ]
    },
    {
      "cell_type": "code",
      "metadata": {
        "colab": {
          "base_uri": "https://localhost:8080/"
        },
        "id": "Nz-lTmHG7sHM",
        "outputId": "55d50aa6-3b5c-44e7-f7b4-15a945348345"
      },
      "source": [
        "from google.colab import drive\n",
        "drive.mount('/content/drive')"
      ],
      "execution_count": 1,
      "outputs": [
        {
          "output_type": "stream",
          "text": [
            "Mounted at /content/drive\n"
          ],
          "name": "stdout"
        }
      ]
    },
    {
      "cell_type": "code",
      "metadata": {
        "id": "KgPaX3rG7vlr"
      },
      "source": [
        "import pandas as pd\n",
        "import numpy as np\n",
        "\n",
        "import matplotlib.pyplot as plt\n",
        "import seaborn as sns\n",
        "import plotly.express as px\n",
        "import plotly.graph_objects as go\n",
        "\n",
        "\n",
        "from sklearn.cluster import KMeans\n",
        "from sklearn.preprocessing import StandardScaler\n",
        "\n",
        "from sklearn.model_selection import train_test_split\n",
        "from sklearn.pipeline import Pipeline\n",
        "from sklearn.metrics import classification_report\n",
        "from sklearn.neighbors import KNeighborsClassifier"
      ],
      "execution_count": 2,
      "outputs": []
    },
    {
      "cell_type": "code",
      "metadata": {
        "id": "mV5gFbWl7xhV"
      },
      "source": [
        "df = pd.read_parquet('/content/drive/Shareddrives/bndes-arquivos/operacoes-coops.parquet')\n",
        "df_ativos = pd.read_parquet('/content/drive/Shareddrives/bndes-arquivos/cnpj-ativas_coop.parquet')\n",
        "df_join = pd.read_parquet('/content/drive/Shareddrives/bndes-arquivos/cross-table.parquet')"
      ],
      "execution_count": 3,
      "outputs": []
    },
    {
      "cell_type": "code",
      "metadata": {
        "colab": {
          "base_uri": "https://localhost:8080/"
        },
        "id": "09BNv90CVaxJ",
        "outputId": "f7a3f78f-7e65-47c1-9f0a-d81ce2128238"
      },
      "source": [
        "df.shape"
      ],
      "execution_count": null,
      "outputs": [
        {
          "output_type": "execute_result",
          "data": {
            "text/plain": [
              "(102085, 9)"
            ]
          },
          "metadata": {},
          "execution_count": 23
        }
      ]
    },
    {
      "cell_type": "code",
      "metadata": {
        "colab": {
          "base_uri": "https://localhost:8080/"
        },
        "id": "BeD81U7pEm7w",
        "outputId": "83df48a0-872c-49fe-d5be-c3b474026e48"
      },
      "source": [
        "df_ativos.shape"
      ],
      "execution_count": null,
      "outputs": [
        {
          "output_type": "execute_result",
          "data": {
            "text/plain": [
              "(22078, 15)"
            ]
          },
          "metadata": {},
          "execution_count": 506
        }
      ]
    },
    {
      "cell_type": "code",
      "metadata": {
        "colab": {
          "base_uri": "https://localhost:8080/",
          "height": 398
        },
        "id": "GOEM5tTqABTo",
        "outputId": "c04da6e0-e6a7-4af3-c6bd-40562a3d3d04"
      },
      "source": [
        "df_ativos.head()"
      ],
      "execution_count": null,
      "outputs": [
        {
          "output_type": "execute_result",
          "data": {
            "text/html": [
              "<div>\n",
              "<style scoped>\n",
              "    .dataframe tbody tr th:only-of-type {\n",
              "        vertical-align: middle;\n",
              "    }\n",
              "\n",
              "    .dataframe tbody tr th {\n",
              "        vertical-align: top;\n",
              "    }\n",
              "\n",
              "    .dataframe thead th {\n",
              "        text-align: right;\n",
              "    }\n",
              "</style>\n",
              "<table border=\"1\" class=\"dataframe\">\n",
              "  <thead>\n",
              "    <tr style=\"text-align: right;\">\n",
              "      <th></th>\n",
              "      <th>cnpj_base</th>\n",
              "      <th>cnpj_ordem</th>\n",
              "      <th>cnpj_dv</th>\n",
              "      <th>situacao_data</th>\n",
              "      <th>atividade_inicio</th>\n",
              "      <th>cnae_principal</th>\n",
              "      <th>cep</th>\n",
              "      <th>uf</th>\n",
              "      <th>municipio</th>\n",
              "      <th>cnae_descricao</th>\n",
              "      <th>natureza</th>\n",
              "      <th>capital_social</th>\n",
              "      <th>porte_empresa</th>\n",
              "      <th>natureza_descricao</th>\n",
              "      <th>id</th>\n",
              "    </tr>\n",
              "  </thead>\n",
              "  <tbody>\n",
              "    <tr>\n",
              "      <th>0</th>\n",
              "      <td>77890846</td>\n",
              "      <td>0054</td>\n",
              "      <td>80</td>\n",
              "      <td>2016-12-01</td>\n",
              "      <td>2016-12-01</td>\n",
              "      <td>4632003</td>\n",
              "      <td>21011690</td>\n",
              "      <td>RJ</td>\n",
              "      <td>6001</td>\n",
              "      <td>Comércio atacadista de cereais e leguminosas b...</td>\n",
              "      <td>2143</td>\n",
              "      <td>0.0</td>\n",
              "      <td>demais</td>\n",
              "      <td>Cooperativa</td>\n",
              "      <td>908460054RJ</td>\n",
              "    </tr>\n",
              "    <tr>\n",
              "      <th>1</th>\n",
              "      <td>26656128</td>\n",
              "      <td>0001</td>\n",
              "      <td>00</td>\n",
              "      <td>2016-12-01</td>\n",
              "      <td>2016-12-01</td>\n",
              "      <td>5211701</td>\n",
              "      <td>98590000</td>\n",
              "      <td>RS</td>\n",
              "      <td>8859</td>\n",
              "      <td>Armazéns gerais - emissão de warrant</td>\n",
              "      <td>2143</td>\n",
              "      <td>32000.0</td>\n",
              "      <td>demais</td>\n",
              "      <td>Cooperativa</td>\n",
              "      <td>561280001RS</td>\n",
              "    </tr>\n",
              "    <tr>\n",
              "      <th>2</th>\n",
              "      <td>22753982</td>\n",
              "      <td>0013</td>\n",
              "      <td>69</td>\n",
              "      <td>2016-12-01</td>\n",
              "      <td>2016-12-01</td>\n",
              "      <td>6424703</td>\n",
              "      <td>35700481</td>\n",
              "      <td>MG</td>\n",
              "      <td>5343</td>\n",
              "      <td>Cooperativas de crédito mútuo</td>\n",
              "      <td>2143</td>\n",
              "      <td>0.0</td>\n",
              "      <td>demais</td>\n",
              "      <td>Cooperativa</td>\n",
              "      <td>539820013MG</td>\n",
              "    </tr>\n",
              "    <tr>\n",
              "      <th>3</th>\n",
              "      <td>46844338</td>\n",
              "      <td>0044</td>\n",
              "      <td>60</td>\n",
              "      <td>2016-12-01</td>\n",
              "      <td>2016-12-01</td>\n",
              "      <td>4731800</td>\n",
              "      <td>19960000</td>\n",
              "      <td>SP</td>\n",
              "      <td>6297</td>\n",
              "      <td>Comércio varejista de combustíveis para veícul...</td>\n",
              "      <td>2143</td>\n",
              "      <td>0.0</td>\n",
              "      <td>demais</td>\n",
              "      <td>Cooperativa</td>\n",
              "      <td>443380044SP</td>\n",
              "    </tr>\n",
              "    <tr>\n",
              "      <th>4</th>\n",
              "      <td>26706113</td>\n",
              "      <td>0001</td>\n",
              "      <td>09</td>\n",
              "      <td>2016-12-01</td>\n",
              "      <td>2016-12-01</td>\n",
              "      <td>4744001</td>\n",
              "      <td>89908000</td>\n",
              "      <td>SC</td>\n",
              "      <td>8299</td>\n",
              "      <td>Comércio varejista de ferragens e ferramentas</td>\n",
              "      <td>2143</td>\n",
              "      <td>2850.0</td>\n",
              "      <td>demais</td>\n",
              "      <td>Cooperativa</td>\n",
              "      <td>061130001SC</td>\n",
              "    </tr>\n",
              "  </tbody>\n",
              "</table>\n",
              "</div>"
            ],
            "text/plain": [
              "  cnpj_base cnpj_ordem cnpj_dv  ... porte_empresa natureza_descricao           id\n",
              "0  77890846       0054      80  ...        demais        Cooperativa  908460054RJ\n",
              "1  26656128       0001      00  ...        demais        Cooperativa  561280001RS\n",
              "2  22753982       0013      69  ...        demais        Cooperativa  539820013MG\n",
              "3  46844338       0044      60  ...        demais        Cooperativa  443380044SP\n",
              "4  26706113       0001      09  ...        demais        Cooperativa  061130001SC\n",
              "\n",
              "[5 rows x 15 columns]"
            ]
          },
          "metadata": {},
          "execution_count": 501
        }
      ]
    },
    {
      "cell_type": "code",
      "metadata": {
        "colab": {
          "base_uri": "https://localhost:8080/"
        },
        "id": "wLeTmWcwALNX",
        "outputId": "761be0bf-a59e-4dba-e0bc-8a484b6f39a7"
      },
      "source": [
        "df_ativos['porte_empresa'].value_counts()"
      ],
      "execution_count": null,
      "outputs": [
        {
          "output_type": "execute_result",
          "data": {
            "text/plain": [
              "demais                      22058\n",
              "nao informado                  17\n",
              "empresa de pequeno porte        3\n",
              "Name: porte_empresa, dtype: int64"
            ]
          },
          "metadata": {},
          "execution_count": 503
        }
      ]
    },
    {
      "cell_type": "code",
      "metadata": {
        "colab": {
          "base_uri": "https://localhost:8080/",
          "height": 485
        },
        "id": "y8YRQIiyOrTL",
        "outputId": "0306a930-2e10-484a-8f1c-793426d34cc5"
      },
      "source": [
        "df.head()"
      ],
      "execution_count": null,
      "outputs": [
        {
          "output_type": "execute_result",
          "data": {
            "text/html": [
              "<div>\n",
              "<style scoped>\n",
              "    .dataframe tbody tr th:only-of-type {\n",
              "        vertical-align: middle;\n",
              "    }\n",
              "\n",
              "    .dataframe tbody tr th {\n",
              "        vertical-align: top;\n",
              "    }\n",
              "\n",
              "    .dataframe thead th {\n",
              "        text-align: right;\n",
              "    }\n",
              "</style>\n",
              "<table border=\"1\" class=\"dataframe\">\n",
              "  <thead>\n",
              "    <tr style=\"text-align: right;\">\n",
              "      <th></th>\n",
              "      <th>cliente</th>\n",
              "      <th>cnpj</th>\n",
              "      <th>uf</th>\n",
              "      <th>municipio</th>\n",
              "      <th>municipio_codigo</th>\n",
              "      <th>data_da_contratacao</th>\n",
              "      <th>valor_em_reais</th>\n",
              "      <th>valor_desembolsado_reais</th>\n",
              "      <th>fonte_de_recurso_desembolsos</th>\n",
              "      <th>custo_financeiro</th>\n",
              "      <th>juros</th>\n",
              "      <th>prazo_carencia_meses</th>\n",
              "      <th>prazo_amortizacao_meses</th>\n",
              "      <th>modalidade_de_apoio</th>\n",
              "      <th>forma_de_apoio</th>\n",
              "      <th>produto</th>\n",
              "      <th>instrumento_financeiro</th>\n",
              "      <th>inovacao</th>\n",
              "      <th>area_operacional</th>\n",
              "      <th>setor_cnae</th>\n",
              "      <th>subsetor_cnae_agrupado</th>\n",
              "      <th>subsetor_cnae_codigo</th>\n",
              "      <th>subsetor_cnae_nome</th>\n",
              "      <th>setor_bndes</th>\n",
              "      <th>subsetor_bndes</th>\n",
              "      <th>porte_do_cliente</th>\n",
              "      <th>natureza_do_cliente</th>\n",
              "      <th>instituicao_financeira_credenciada</th>\n",
              "      <th>cnpj_do_agente_financeiro</th>\n",
              "      <th>situacao</th>\n",
              "      <th>origem</th>\n",
              "      <th>valor_contratado_reais</th>\n",
              "      <th>descricao_do_projeto</th>\n",
              "      <th>numero_do_contrato</th>\n",
              "      <th>tipo_de_garantia</th>\n",
              "      <th>tipo_de_excepcionalidade</th>\n",
              "      <th>id</th>\n",
              "    </tr>\n",
              "  </thead>\n",
              "  <tbody>\n",
              "    <tr>\n",
              "      <th>0</th>\n",
              "      <td>BANCO COOPERATIVO SICOOB S.A.</td>\n",
              "      <td>**.*38.232/0001-**</td>\n",
              "      <td>SP</td>\n",
              "      <td>PEDREGULHO</td>\n",
              "      <td>3537008</td>\n",
              "      <td>2002-01-02</td>\n",
              "      <td>16000.0</td>\n",
              "      <td>16000.0</td>\n",
              "      <td>RECURSOS LIVRES - TESOURO</td>\n",
              "      <td>TAXA FIXA</td>\n",
              "      <td>8,75</td>\n",
              "      <td>24</td>\n",
              "      <td>36</td>\n",
              "      <td>REEMBOLSAVEL</td>\n",
              "      <td>INDIRETA</td>\n",
              "      <td>BNDES AUTOMATICO</td>\n",
              "      <td>OUTROS</td>\n",
              "      <td>NAO</td>\n",
              "      <td>AREA DE OPERACOES E CANAIS DIGITAIS</td>\n",
              "      <td>AGROPECUARIA E PESCA</td>\n",
              "      <td>AgropecuA¡ria</td>\n",
              "      <td>A0119900</td>\n",
              "      <td>CULT PLANTAS LAVOURA TEMPORARIA NAO ESPECIFICA...</td>\n",
              "      <td>AGROPECUARIA</td>\n",
              "      <td>AGROPECUARIA</td>\n",
              "      <td>MICRO</td>\n",
              "      <td>PRIVADA</td>\n",
              "      <td>BANCO COOPERATIVO SICOOB S.A.</td>\n",
              "      <td>02.038.232.0001-64</td>\n",
              "      <td>LIQUIDADA</td>\n",
              "      <td>AUTOMATICA</td>\n",
              "      <td>16000.0</td>\n",
              "      <td>0</td>\n",
              "      <td>0</td>\n",
              "      <td>0</td>\n",
              "      <td>0</td>\n",
              "      <td>382320001SP</td>\n",
              "    </tr>\n",
              "    <tr>\n",
              "      <th>1</th>\n",
              "      <td>BANCO COOPERATIVO SICOOB S.A.</td>\n",
              "      <td>**.*38.232/0001-**</td>\n",
              "      <td>BA</td>\n",
              "      <td>MEDEIROS NETO</td>\n",
              "      <td>2921104</td>\n",
              "      <td>2002-01-02</td>\n",
              "      <td>30447.0</td>\n",
              "      <td>30447.0</td>\n",
              "      <td>RECURSOS LIVRES - TESOURO</td>\n",
              "      <td>TAXA FIXA</td>\n",
              "      <td>8,75</td>\n",
              "      <td>24</td>\n",
              "      <td>36</td>\n",
              "      <td>REEMBOLSAVEL</td>\n",
              "      <td>INDIRETA</td>\n",
              "      <td>BNDES AUTOMATICO</td>\n",
              "      <td>OUTROS</td>\n",
              "      <td>NAO</td>\n",
              "      <td>AREA DE OPERACOES E CANAIS DIGITAIS</td>\n",
              "      <td>AGROPECUARIA E PESCA</td>\n",
              "      <td>AgropecuA¡ria</td>\n",
              "      <td>A0119900</td>\n",
              "      <td>CULT PLANTAS LAVOURA TEMPORARIA NAO ESPECIFICA...</td>\n",
              "      <td>AGROPECUARIA</td>\n",
              "      <td>AGROPECUARIA</td>\n",
              "      <td>MICRO</td>\n",
              "      <td>PRIVADA</td>\n",
              "      <td>BANCO COOPERATIVO SICOOB S.A.</td>\n",
              "      <td>02.038.232.0001-64</td>\n",
              "      <td>LIQUIDADA</td>\n",
              "      <td>AUTOMATICA</td>\n",
              "      <td>30447.0</td>\n",
              "      <td>0</td>\n",
              "      <td>0</td>\n",
              "      <td>0</td>\n",
              "      <td>0</td>\n",
              "      <td>382320001BA</td>\n",
              "    </tr>\n",
              "    <tr>\n",
              "      <th>2</th>\n",
              "      <td>BANCO COOPERATIVO SICOOB S.A.</td>\n",
              "      <td>**.*38.232/0001-**</td>\n",
              "      <td>MG</td>\n",
              "      <td>CAMPOS ALTOS</td>\n",
              "      <td>3111507</td>\n",
              "      <td>2002-01-02</td>\n",
              "      <td>5000.0</td>\n",
              "      <td>5000.0</td>\n",
              "      <td>RECURSOS VINCULADOS - FAT DEPA“SITOS ESPECIAIS</td>\n",
              "      <td>TAXA FIXA</td>\n",
              "      <td>4,0</td>\n",
              "      <td>12</td>\n",
              "      <td>54</td>\n",
              "      <td>REEMBOLSAVEL</td>\n",
              "      <td>INDIRETA</td>\n",
              "      <td>BNDES AUTOMATICO</td>\n",
              "      <td>PRONAF INVESTIMENTO</td>\n",
              "      <td>NAO</td>\n",
              "      <td>AREA DE OPERACOES E CANAIS DIGITAIS</td>\n",
              "      <td>AGROPECUARIA E PESCA</td>\n",
              "      <td>AgropecuA¡ria</td>\n",
              "      <td>A0100000</td>\n",
              "      <td>AGRICULTURA, PECUARIA E SERVICOS RELACIONADOS</td>\n",
              "      <td>AGROPECUARIA</td>\n",
              "      <td>AGROPECUARIA</td>\n",
              "      <td>MICRO</td>\n",
              "      <td>PRIVADA</td>\n",
              "      <td>BANCO COOPERATIVO SICOOB S.A.</td>\n",
              "      <td>02.038.232.0001-64</td>\n",
              "      <td>LIQUIDADA</td>\n",
              "      <td>AUTOMATICA</td>\n",
              "      <td>5000.0</td>\n",
              "      <td>0</td>\n",
              "      <td>0</td>\n",
              "      <td>0</td>\n",
              "      <td>0</td>\n",
              "      <td>382320001MG</td>\n",
              "    </tr>\n",
              "    <tr>\n",
              "      <th>3</th>\n",
              "      <td>BANCO COOPERATIVO SICOOB S.A.</td>\n",
              "      <td>**.*38.232/0001-**</td>\n",
              "      <td>MG</td>\n",
              "      <td>CAPITAO ANDRADE</td>\n",
              "      <td>3112653</td>\n",
              "      <td>2002-01-02</td>\n",
              "      <td>25000.0</td>\n",
              "      <td>25000.0</td>\n",
              "      <td>RECURSOS LIVRES - TESOURO</td>\n",
              "      <td>TAXA FIXA</td>\n",
              "      <td>8,75</td>\n",
              "      <td>0</td>\n",
              "      <td>60</td>\n",
              "      <td>REEMBOLSAVEL</td>\n",
              "      <td>INDIRETA</td>\n",
              "      <td>BNDES AUTOMATICO</td>\n",
              "      <td>OUTROS</td>\n",
              "      <td>NAO</td>\n",
              "      <td>AREA DE OPERACOES E CANAIS DIGITAIS</td>\n",
              "      <td>AGROPECUARIA E PESCA</td>\n",
              "      <td>AgropecuA¡ria</td>\n",
              "      <td>A0119900</td>\n",
              "      <td>CULT PLANTAS LAVOURA TEMPORARIA NAO ESPECIFICA...</td>\n",
              "      <td>AGROPECUARIA</td>\n",
              "      <td>AGROPECUARIA</td>\n",
              "      <td>MICRO</td>\n",
              "      <td>PRIVADA</td>\n",
              "      <td>BANCO COOPERATIVO SICOOB S.A.</td>\n",
              "      <td>02.038.232.0001-64</td>\n",
              "      <td>LIQUIDADA</td>\n",
              "      <td>AUTOMATICA</td>\n",
              "      <td>25000.0</td>\n",
              "      <td>0</td>\n",
              "      <td>0</td>\n",
              "      <td>0</td>\n",
              "      <td>0</td>\n",
              "      <td>382320001MG</td>\n",
              "    </tr>\n",
              "    <tr>\n",
              "      <th>4</th>\n",
              "      <td>BANCO COOPERATIVO SICOOB S.A.</td>\n",
              "      <td>**.*38.232/0001-**</td>\n",
              "      <td>RO</td>\n",
              "      <td>SAO FELIPE D'OESTE</td>\n",
              "      <td>1101484</td>\n",
              "      <td>2002-01-02</td>\n",
              "      <td>20326.0</td>\n",
              "      <td>20326.0</td>\n",
              "      <td>RECURSOS LIVRES - TESOURO</td>\n",
              "      <td>TAXA FIXA</td>\n",
              "      <td>8,75</td>\n",
              "      <td>12</td>\n",
              "      <td>48</td>\n",
              "      <td>REEMBOLSAVEL</td>\n",
              "      <td>INDIRETA</td>\n",
              "      <td>BNDES AUTOMATICO</td>\n",
              "      <td>OUTROS</td>\n",
              "      <td>NAO</td>\n",
              "      <td>AREA DE OPERACOES E CANAIS DIGITAIS</td>\n",
              "      <td>AGROPECUARIA E PESCA</td>\n",
              "      <td>AgropecuA¡ria</td>\n",
              "      <td>A0119900</td>\n",
              "      <td>CULT PLANTAS LAVOURA TEMPORARIA NAO ESPECIFICA...</td>\n",
              "      <td>AGROPECUARIA</td>\n",
              "      <td>AGROPECUARIA</td>\n",
              "      <td>MICRO</td>\n",
              "      <td>PRIVADA</td>\n",
              "      <td>BANCO COOPERATIVO SICOOB S.A.</td>\n",
              "      <td>02.038.232.0001-64</td>\n",
              "      <td>LIQUIDADA</td>\n",
              "      <td>AUTOMATICA</td>\n",
              "      <td>20326.0</td>\n",
              "      <td>0</td>\n",
              "      <td>0</td>\n",
              "      <td>0</td>\n",
              "      <td>0</td>\n",
              "      <td>382320001RO</td>\n",
              "    </tr>\n",
              "  </tbody>\n",
              "</table>\n",
              "</div>"
            ],
            "text/plain": [
              "                         cliente  ...           id\n",
              "0  BANCO COOPERATIVO SICOOB S.A.  ...  382320001SP\n",
              "1  BANCO COOPERATIVO SICOOB S.A.  ...  382320001BA\n",
              "2  BANCO COOPERATIVO SICOOB S.A.  ...  382320001MG\n",
              "3  BANCO COOPERATIVO SICOOB S.A.  ...  382320001MG\n",
              "4  BANCO COOPERATIVO SICOOB S.A.  ...  382320001RO\n",
              "\n",
              "[5 rows x 37 columns]"
            ]
          },
          "metadata": {},
          "execution_count": 335
        }
      ]
    },
    {
      "cell_type": "code",
      "metadata": {
        "colab": {
          "base_uri": "https://localhost:8080/",
          "height": 422
        },
        "id": "qA_dH4UlNU4F",
        "outputId": "d39d73d9-84e0-40aa-c95b-884e37f9c9f8"
      },
      "source": [
        "df_join[['municipio_codigo', 'cep']]"
      ],
      "execution_count": null,
      "outputs": [
        {
          "output_type": "execute_result",
          "data": {
            "text/html": [
              "<div>\n",
              "<style scoped>\n",
              "    .dataframe tbody tr th:only-of-type {\n",
              "        vertical-align: middle;\n",
              "    }\n",
              "\n",
              "    .dataframe tbody tr th {\n",
              "        vertical-align: top;\n",
              "    }\n",
              "\n",
              "    .dataframe thead th {\n",
              "        text-align: right;\n",
              "    }\n",
              "</style>\n",
              "<table border=\"1\" class=\"dataframe\">\n",
              "  <thead>\n",
              "    <tr style=\"text-align: right;\">\n",
              "      <th></th>\n",
              "      <th>municipio_codigo</th>\n",
              "      <th>cep</th>\n",
              "    </tr>\n",
              "  </thead>\n",
              "  <tbody>\n",
              "    <tr>\n",
              "      <th>0</th>\n",
              "      <td>3111507</td>\n",
              "      <td>35534000</td>\n",
              "    </tr>\n",
              "    <tr>\n",
              "      <th>1</th>\n",
              "      <td>3112653</td>\n",
              "      <td>35534000</td>\n",
              "    </tr>\n",
              "    <tr>\n",
              "      <th>2</th>\n",
              "      <td>3153400</td>\n",
              "      <td>35534000</td>\n",
              "    </tr>\n",
              "    <tr>\n",
              "      <th>3</th>\n",
              "      <td>3168606</td>\n",
              "      <td>35534000</td>\n",
              "    </tr>\n",
              "    <tr>\n",
              "      <th>4</th>\n",
              "      <td>3168606</td>\n",
              "      <td>35534000</td>\n",
              "    </tr>\n",
              "    <tr>\n",
              "      <th>...</th>\n",
              "      <td>...</td>\n",
              "      <td>...</td>\n",
              "    </tr>\n",
              "    <tr>\n",
              "      <th>16537</th>\n",
              "      <td>3126208</td>\n",
              "      <td>38690000</td>\n",
              "    </tr>\n",
              "    <tr>\n",
              "      <th>16538</th>\n",
              "      <td>3126208</td>\n",
              "      <td>38690000</td>\n",
              "    </tr>\n",
              "    <tr>\n",
              "      <th>16539</th>\n",
              "      <td>3111507</td>\n",
              "      <td>38970000</td>\n",
              "    </tr>\n",
              "    <tr>\n",
              "      <th>16540</th>\n",
              "      <td>4318804</td>\n",
              "      <td>96170000</td>\n",
              "    </tr>\n",
              "    <tr>\n",
              "      <th>16541</th>\n",
              "      <td>4109401</td>\n",
              "      <td>84430000</td>\n",
              "    </tr>\n",
              "  </tbody>\n",
              "</table>\n",
              "<p>16542 rows × 2 columns</p>\n",
              "</div>"
            ],
            "text/plain": [
              "       municipio_codigo       cep\n",
              "0               3111507  35534000\n",
              "1               3112653  35534000\n",
              "2               3153400  35534000\n",
              "3               3168606  35534000\n",
              "4               3168606  35534000\n",
              "...                 ...       ...\n",
              "16537           3126208  38690000\n",
              "16538           3126208  38690000\n",
              "16539           3111507  38970000\n",
              "16540           4318804  96170000\n",
              "16541           4109401  84430000\n",
              "\n",
              "[16542 rows x 2 columns]"
            ]
          },
          "metadata": {},
          "execution_count": 24
        }
      ]
    },
    {
      "cell_type": "code",
      "metadata": {
        "id": "nHc6WXxcXEam"
      },
      "source": [
        "df1 = df.select_dtypes(np.number)"
      ],
      "execution_count": 4,
      "outputs": []
    },
    {
      "cell_type": "code",
      "metadata": {
        "id": "o-J7IEVxXI18"
      },
      "source": [
        "dfx = df1.drop(['municipio_codigo', 'numero_do_contrato', 'valor_desembolsado_reais'], axis=1)"
      ],
      "execution_count": 5,
      "outputs": []
    },
    {
      "cell_type": "code",
      "metadata": {
        "colab": {
          "base_uri": "https://localhost:8080/",
          "height": 175
        },
        "id": "QUD4yj2hXVcf",
        "outputId": "b68441ef-7a0f-4aac-c98c-158a9e55243f"
      },
      "source": [
        "dfx.corr()"
      ],
      "execution_count": null,
      "outputs": [
        {
          "output_type": "execute_result",
          "data": {
            "text/html": [
              "<div>\n",
              "<style scoped>\n",
              "    .dataframe tbody tr th:only-of-type {\n",
              "        vertical-align: middle;\n",
              "    }\n",
              "\n",
              "    .dataframe tbody tr th {\n",
              "        vertical-align: top;\n",
              "    }\n",
              "\n",
              "    .dataframe thead th {\n",
              "        text-align: right;\n",
              "    }\n",
              "</style>\n",
              "<table border=\"1\" class=\"dataframe\">\n",
              "  <thead>\n",
              "    <tr style=\"text-align: right;\">\n",
              "      <th></th>\n",
              "      <th>valor_em_reais</th>\n",
              "      <th>prazo_carencia_meses</th>\n",
              "      <th>prazo_amortizacao_meses</th>\n",
              "      <th>valor_contratado_reais</th>\n",
              "    </tr>\n",
              "  </thead>\n",
              "  <tbody>\n",
              "    <tr>\n",
              "      <th>valor_em_reais</th>\n",
              "      <td>1.000000</td>\n",
              "      <td>0.081633</td>\n",
              "      <td>-0.025509</td>\n",
              "      <td>0.553035</td>\n",
              "    </tr>\n",
              "    <tr>\n",
              "      <th>prazo_carencia_meses</th>\n",
              "      <td>0.081633</td>\n",
              "      <td>1.000000</td>\n",
              "      <td>0.043349</td>\n",
              "      <td>0.045565</td>\n",
              "    </tr>\n",
              "    <tr>\n",
              "      <th>prazo_amortizacao_meses</th>\n",
              "      <td>-0.025509</td>\n",
              "      <td>0.043349</td>\n",
              "      <td>1.000000</td>\n",
              "      <td>-0.113839</td>\n",
              "    </tr>\n",
              "    <tr>\n",
              "      <th>valor_contratado_reais</th>\n",
              "      <td>0.553035</td>\n",
              "      <td>0.045565</td>\n",
              "      <td>-0.113839</td>\n",
              "      <td>1.000000</td>\n",
              "    </tr>\n",
              "  </tbody>\n",
              "</table>\n",
              "</div>"
            ],
            "text/plain": [
              "                         valor_em_reais  ...  valor_contratado_reais\n",
              "valor_em_reais                 1.000000  ...                0.553035\n",
              "prazo_carencia_meses           0.081633  ...                0.045565\n",
              "prazo_amortizacao_meses       -0.025509  ...               -0.113839\n",
              "valor_contratado_reais         0.553035  ...                1.000000\n",
              "\n",
              "[4 rows x 4 columns]"
            ]
          },
          "metadata": {},
          "execution_count": 351
        }
      ]
    },
    {
      "cell_type": "code",
      "metadata": {
        "colab": {
          "base_uri": "https://localhost:8080/",
          "height": 175
        },
        "id": "0XxXPnP1XnDa",
        "outputId": "51340d79-21ec-47f0-e9c3-bbda04c70efb"
      },
      "source": [
        "exploration = pd.DataFrame({\n",
        "    'column': dfx.columns, 'type': dfx.dtypes, 'NA #': dfx.isna().sum(), 'NA %': round((dfx.isna().sum() / dfx.shape[0]) * 100, 2)\n",
        "})\n",
        "exploration.sort_values('NA %', ascending=False)"
      ],
      "execution_count": null,
      "outputs": [
        {
          "output_type": "execute_result",
          "data": {
            "text/html": [
              "<div>\n",
              "<style scoped>\n",
              "    .dataframe tbody tr th:only-of-type {\n",
              "        vertical-align: middle;\n",
              "    }\n",
              "\n",
              "    .dataframe tbody tr th {\n",
              "        vertical-align: top;\n",
              "    }\n",
              "\n",
              "    .dataframe thead th {\n",
              "        text-align: right;\n",
              "    }\n",
              "</style>\n",
              "<table border=\"1\" class=\"dataframe\">\n",
              "  <thead>\n",
              "    <tr style=\"text-align: right;\">\n",
              "      <th></th>\n",
              "      <th>column</th>\n",
              "      <th>type</th>\n",
              "      <th>NA #</th>\n",
              "      <th>NA %</th>\n",
              "    </tr>\n",
              "  </thead>\n",
              "  <tbody>\n",
              "    <tr>\n",
              "      <th>valor_em_reais</th>\n",
              "      <td>valor_em_reais</td>\n",
              "      <td>float64</td>\n",
              "      <td>0</td>\n",
              "      <td>0.0</td>\n",
              "    </tr>\n",
              "    <tr>\n",
              "      <th>prazo_carencia_meses</th>\n",
              "      <td>prazo_carencia_meses</td>\n",
              "      <td>int32</td>\n",
              "      <td>0</td>\n",
              "      <td>0.0</td>\n",
              "    </tr>\n",
              "    <tr>\n",
              "      <th>prazo_amortizacao_meses</th>\n",
              "      <td>prazo_amortizacao_meses</td>\n",
              "      <td>int32</td>\n",
              "      <td>0</td>\n",
              "      <td>0.0</td>\n",
              "    </tr>\n",
              "    <tr>\n",
              "      <th>valor_contratado_reais</th>\n",
              "      <td>valor_contratado_reais</td>\n",
              "      <td>float64</td>\n",
              "      <td>0</td>\n",
              "      <td>0.0</td>\n",
              "    </tr>\n",
              "  </tbody>\n",
              "</table>\n",
              "</div>"
            ],
            "text/plain": [
              "                                          column     type  NA #  NA %\n",
              "valor_em_reais                    valor_em_reais  float64     0   0.0\n",
              "prazo_carencia_meses        prazo_carencia_meses    int32     0   0.0\n",
              "prazo_amortizacao_meses  prazo_amortizacao_meses    int32     0   0.0\n",
              "valor_contratado_reais    valor_contratado_reais  float64     0   0.0"
            ]
          },
          "metadata": {},
          "execution_count": 352
        }
      ]
    },
    {
      "cell_type": "code",
      "metadata": {
        "colab": {
          "base_uri": "https://localhost:8080/",
          "height": 515
        },
        "id": "sSMdD--Ia4xM",
        "outputId": "8559b0a5-e9c8-4d16-eb76-05937acfac4f"
      },
      "source": [
        "plt.figure(figsize=(10, 8))\n",
        "sns.histplot(x='setor_cnae', data=df)"
      ],
      "execution_count": null,
      "outputs": [
        {
          "output_type": "execute_result",
          "data": {
            "text/plain": [
              "<matplotlib.axes._subplots.AxesSubplot at 0x7f89e0db16d0>"
            ]
          },
          "metadata": {},
          "execution_count": 426
        },
        {
          "output_type": "display_data",
          "data": {
            "image/png": "[encoded data removed]",
            "text/plain": [
              "<Figure size 720x576 with 1 Axes>"
            ]
          },
          "metadata": {
            "needs_background": "light"
          }
        }
      ]
    },
    {
      "cell_type": "code",
      "metadata": {
        "id": "UMqUxm8084Ik"
      },
      "source": [
        "col = ['cliente', 'setor_cnae', 'porte_do_cliente', 'juros']"
      ],
      "execution_count": 6,
      "outputs": []
    },
    {
      "cell_type": "markdown",
      "metadata": {
        "id": "MfoLZr9S_44S"
      },
      "source": [
        "# Data Transform"
      ]
    },
    {
      "cell_type": "code",
      "metadata": {
        "id": "anJZQ6GS9SXy"
      },
      "source": [
        "data = df[col] "
      ],
      "execution_count": 7,
      "outputs": []
    },
    {
      "cell_type": "code",
      "metadata": {
        "id": "ZqP0sdk1X6IU"
      },
      "source": [
        "data = pd.concat([df[col], dfx], axis=1)"
      ],
      "execution_count": 8,
      "outputs": []
    },
    {
      "cell_type": "code",
      "metadata": {
        "colab": {
          "base_uri": "https://localhost:8080/",
          "height": 491
        },
        "id": "q0aHzyQgYAMB",
        "outputId": "3d3311b8-6ed9-42bc-f68d-32f035bb58a6"
      },
      "source": [
        "data"
      ],
      "execution_count": null,
      "outputs": [
        {
          "output_type": "execute_result",
          "data": {
            "text/html": [
              "<div>\n",
              "<style scoped>\n",
              "    .dataframe tbody tr th:only-of-type {\n",
              "        vertical-align: middle;\n",
              "    }\n",
              "\n",
              "    .dataframe tbody tr th {\n",
              "        vertical-align: top;\n",
              "    }\n",
              "\n",
              "    .dataframe thead th {\n",
              "        text-align: right;\n",
              "    }\n",
              "</style>\n",
              "<table border=\"1\" class=\"dataframe\">\n",
              "  <thead>\n",
              "    <tr style=\"text-align: right;\">\n",
              "      <th></th>\n",
              "      <th>cliente</th>\n",
              "      <th>setor_cnae</th>\n",
              "      <th>porte_do_cliente</th>\n",
              "      <th>juros</th>\n",
              "      <th>valor_em_reais</th>\n",
              "      <th>prazo_carencia_meses</th>\n",
              "      <th>prazo_amortizacao_meses</th>\n",
              "      <th>valor_contratado_reais</th>\n",
              "    </tr>\n",
              "  </thead>\n",
              "  <tbody>\n",
              "    <tr>\n",
              "      <th>0</th>\n",
              "      <td>BANCO COOPERATIVO SICOOB S.A.</td>\n",
              "      <td>AGROPECUARIA E PESCA</td>\n",
              "      <td>MICRO</td>\n",
              "      <td>8,75</td>\n",
              "      <td>16000.0</td>\n",
              "      <td>24</td>\n",
              "      <td>36</td>\n",
              "      <td>16000.0</td>\n",
              "    </tr>\n",
              "    <tr>\n",
              "      <th>1</th>\n",
              "      <td>BANCO COOPERATIVO SICOOB S.A.</td>\n",
              "      <td>AGROPECUARIA E PESCA</td>\n",
              "      <td>MICRO</td>\n",
              "      <td>8,75</td>\n",
              "      <td>30447.0</td>\n",
              "      <td>24</td>\n",
              "      <td>36</td>\n",
              "      <td>30447.0</td>\n",
              "    </tr>\n",
              "    <tr>\n",
              "      <th>2</th>\n",
              "      <td>BANCO COOPERATIVO SICOOB S.A.</td>\n",
              "      <td>AGROPECUARIA E PESCA</td>\n",
              "      <td>MICRO</td>\n",
              "      <td>4,0</td>\n",
              "      <td>5000.0</td>\n",
              "      <td>12</td>\n",
              "      <td>54</td>\n",
              "      <td>5000.0</td>\n",
              "    </tr>\n",
              "    <tr>\n",
              "      <th>3</th>\n",
              "      <td>BANCO COOPERATIVO SICOOB S.A.</td>\n",
              "      <td>AGROPECUARIA E PESCA</td>\n",
              "      <td>MICRO</td>\n",
              "      <td>8,75</td>\n",
              "      <td>25000.0</td>\n",
              "      <td>0</td>\n",
              "      <td>60</td>\n",
              "      <td>25000.0</td>\n",
              "    </tr>\n",
              "    <tr>\n",
              "      <th>4</th>\n",
              "      <td>BANCO COOPERATIVO SICOOB S.A.</td>\n",
              "      <td>AGROPECUARIA E PESCA</td>\n",
              "      <td>MICRO</td>\n",
              "      <td>8,75</td>\n",
              "      <td>20326.0</td>\n",
              "      <td>12</td>\n",
              "      <td>48</td>\n",
              "      <td>20326.0</td>\n",
              "    </tr>\n",
              "    <tr>\n",
              "      <th>...</th>\n",
              "      <td>...</td>\n",
              "      <td>...</td>\n",
              "      <td>...</td>\n",
              "      <td>...</td>\n",
              "      <td>...</td>\n",
              "      <td>...</td>\n",
              "      <td>...</td>\n",
              "      <td>...</td>\n",
              "    </tr>\n",
              "    <tr>\n",
              "      <th>102080</th>\n",
              "      <td>COOPERATIVA AGROINDUSTRIAL ALFA</td>\n",
              "      <td>INDUSTRIA DE TRANSFORMAAAO</td>\n",
              "      <td>GRANDE</td>\n",
              "      <td>2,25</td>\n",
              "      <td>62533000.0</td>\n",
              "      <td>36</td>\n",
              "      <td>84</td>\n",
              "      <td>0.0</td>\n",
              "    </tr>\n",
              "    <tr>\n",
              "      <th>102081</th>\n",
              "      <td>COOPERATIVA AGROINDUSTRIAL ALFA</td>\n",
              "      <td>INDUSTRIA DE TRANSFORMAAAO</td>\n",
              "      <td>GRANDE</td>\n",
              "      <td>7,0</td>\n",
              "      <td>14644000.0</td>\n",
              "      <td>36</td>\n",
              "      <td>84</td>\n",
              "      <td>0.0</td>\n",
              "    </tr>\n",
              "    <tr>\n",
              "      <th>102082</th>\n",
              "      <td>COOPERATIVA AGROINDUSTRIAL ALFA</td>\n",
              "      <td>INDUSTRIA DE TRANSFORMAAAO</td>\n",
              "      <td>GRANDE</td>\n",
              "      <td>7,0</td>\n",
              "      <td>60000000.0</td>\n",
              "      <td>36</td>\n",
              "      <td>84</td>\n",
              "      <td>0.0</td>\n",
              "    </tr>\n",
              "    <tr>\n",
              "      <th>102083</th>\n",
              "      <td>UNIMED FORTALEZA SOCIEDADE COOPERATIVA MEDICA ...</td>\n",
              "      <td>COMERCIO E SERVICOS</td>\n",
              "      <td>GRANDE</td>\n",
              "      <td>1,49</td>\n",
              "      <td>100000000.0</td>\n",
              "      <td>24</td>\n",
              "      <td>72</td>\n",
              "      <td>0.0</td>\n",
              "    </tr>\n",
              "    <tr>\n",
              "      <th>102084</th>\n",
              "      <td>COPACOL-COOPERATIVA AGROINDUSTRIAL CONSOLATA</td>\n",
              "      <td>COMERCIO E SERVICOS</td>\n",
              "      <td>GRANDE</td>\n",
              "      <td>3,09</td>\n",
              "      <td>10142000.0</td>\n",
              "      <td>36</td>\n",
              "      <td>84</td>\n",
              "      <td>0.0</td>\n",
              "    </tr>\n",
              "  </tbody>\n",
              "</table>\n",
              "<p>102085 rows × 8 columns</p>\n",
              "</div>"
            ],
            "text/plain": [
              "                                                  cliente  ... valor_contratado_reais\n",
              "0                           BANCO COOPERATIVO SICOOB S.A.  ...                16000.0\n",
              "1                           BANCO COOPERATIVO SICOOB S.A.  ...                30447.0\n",
              "2                           BANCO COOPERATIVO SICOOB S.A.  ...                 5000.0\n",
              "3                           BANCO COOPERATIVO SICOOB S.A.  ...                25000.0\n",
              "4                           BANCO COOPERATIVO SICOOB S.A.  ...                20326.0\n",
              "...                                                   ...  ...                    ...\n",
              "102080                    COOPERATIVA AGROINDUSTRIAL ALFA  ...                    0.0\n",
              "102081                    COOPERATIVA AGROINDUSTRIAL ALFA  ...                    0.0\n",
              "102082                    COOPERATIVA AGROINDUSTRIAL ALFA  ...                    0.0\n",
              "102083  UNIMED FORTALEZA SOCIEDADE COOPERATIVA MEDICA ...  ...                    0.0\n",
              "102084       COPACOL-COOPERATIVA AGROINDUSTRIAL CONSOLATA  ...                    0.0\n",
              "\n",
              "[102085 rows x 8 columns]"
            ]
          },
          "metadata": {},
          "execution_count": 35
        }
      ]
    },
    {
      "cell_type": "code",
      "metadata": {
        "colab": {
          "base_uri": "https://localhost:8080/"
        },
        "id": "gt_I5W2-hH6j",
        "outputId": "46f55822-32cc-4930-eb06-b03073a4474b"
      },
      "source": [
        "df['setor_cnae'].unique()"
      ],
      "execution_count": null,
      "outputs": [
        {
          "output_type": "execute_result",
          "data": {
            "text/plain": [
              "array(['AGROPECUARIA E PESCA', 'INDUSTRIA DE TRANSFORMAAAO',\n",
              "       'COMERCIO E SERVICOS', 'INDUSTRIA EXTRATIVA'], dtype=object)"
            ]
          },
          "metadata": {},
          "execution_count": 424
        }
      ]
    },
    {
      "cell_type": "code",
      "metadata": {
        "id": "Yrf0444L9hjA"
      },
      "source": [
        "func_porte = lambda x: (0 if x == 'MICRO' else \n",
        "                        1 if x == 'PEQUENA' else\n",
        "                        2 if x == 'MADIA' else\n",
        "                        3)\n",
        "\n",
        "func_setor = lambda x: (0 if x == 'AGROPECUARIA E PESCA' else \n",
        "                        1 if x == 'INDUSTRIA DE TRANSFORMAAAO' else\n",
        "                        2 if x == 'COMERCIO E SERVICOS' else \n",
        "                        3)\n",
        "\n",
        "# func_natureza_cliente = lambda x: (0 if x == 'PRIVADA' else\n",
        "#                                    1 if x == 'ADMINISTRAAAO PAsBLICA DIRETA - GOVERNO MUNICIPAL' else\n",
        "#                                    2 if x == 'PAsBLICA INDIRETA' else\n",
        "#                                    3 if x == 'ADMINISTRAAAO PAsBLICA DIRETA - GOVERNO ESTADUAL' else \n",
        "#                                    4)\n",
        "replace = lambda x: x.replace(',', '.')"
      ],
      "execution_count": 9,
      "outputs": []
    },
    {
      "cell_type": "code",
      "metadata": {
        "id": "iOJHp7L5-uiE"
      },
      "source": [
        "data['porte_do_cliente'] = data['porte_do_cliente'].apply(func_porte)\n",
        "data['setor_cnae'] = data['setor_cnae'].apply(func_setor)\n",
        "data['juros'] = data['juros'].apply(replace)\n",
        "data['juros'] = data['juros'].astype(np.number)"
      ],
      "execution_count": 10,
      "outputs": []
    },
    {
      "cell_type": "code",
      "metadata": {
        "colab": {
          "base_uri": "https://localhost:8080/"
        },
        "id": "griq7fOThbgI",
        "outputId": "4f1aa91e-58bb-461c-8715-754e48be6383"
      },
      "source": [
        "data['setor_cnae'].unique()"
      ],
      "execution_count": null,
      "outputs": [
        {
          "output_type": "execute_result",
          "data": {
            "text/plain": [
              "array([0, 1, 2, 3])"
            ]
          },
          "metadata": {},
          "execution_count": 77
        }
      ]
    },
    {
      "cell_type": "code",
      "metadata": {
        "colab": {
          "base_uri": "https://localhost:8080/"
        },
        "id": "OmZE6EXqb7Cv",
        "outputId": "78ddf849-63bc-4091-8f12-0af27cf5a563"
      },
      "source": [
        "data.dtypes"
      ],
      "execution_count": null,
      "outputs": [
        {
          "output_type": "execute_result",
          "data": {
            "text/plain": [
              "cliente                     object\n",
              "setor_cnae                   int64\n",
              "porte_do_cliente             int64\n",
              "juros                      float64\n",
              "valor_em_reais             float64\n",
              "prazo_carencia_meses         int32\n",
              "prazo_amortizacao_meses      int32\n",
              "valor_contratado_reais     float64\n",
              "dtype: object"
            ]
          },
          "metadata": {},
          "execution_count": 38
        }
      ]
    },
    {
      "cell_type": "markdown",
      "metadata": {
        "id": "6f8QJdYl_8ez"
      },
      "source": [
        "# Model "
      ]
    },
    {
      "cell_type": "code",
      "metadata": {
        "id": "4-KNJX9kYUDJ"
      },
      "source": [
        "X = data.drop('cliente', axis=1)"
      ],
      "execution_count": 13,
      "outputs": []
    },
    {
      "cell_type": "code",
      "metadata": {
        "id": "lMfB4t9aiEBS"
      },
      "source": [
        "scaler = StandardScaler()\n",
        "X = scaler.fit_transform(X)"
      ],
      "execution_count": 14,
      "outputs": []
    },
    {
      "cell_type": "code",
      "metadata": {
        "id": "y8i1Wk8GnwCE"
      },
      "source": [
        "def calculate_wcss(data):\n",
        "    wcss = []\n",
        "    for n in range(2, 21):\n",
        "        kmeans = KMeans(n_clusters=n, random_state=42).fit(data)\n",
        "        wcss.append(kmeans.inertia_)\n",
        "    return wcss"
      ],
      "execution_count": null,
      "outputs": []
    },
    {
      "cell_type": "code",
      "metadata": {
        "id": "JVOA7FKbn4RI"
      },
      "source": [
        "wcss = calculate_wcss(X)"
      ],
      "execution_count": null,
      "outputs": []
    },
    {
      "cell_type": "code",
      "metadata": {
        "colab": {
          "base_uri": "https://localhost:8080/",
          "height": 542
        },
        "id": "8m-HHISvoWT9",
        "outputId": "4c4b4058-c74f-441d-ab16-2700d9bbda89"
      },
      "source": [
        "number = list(range(2, 21))\n",
        "\n",
        "fig = go.Figure(data = go.Scatter(x=number, y=wcss))\n",
        "\n",
        "fig.update_layout(title='WCSS vs. Cluster number',\n",
        "                   xaxis_title='Clusters',\n",
        "                   yaxis_title='WCSS')\n",
        "fig.show()"
      ],
      "execution_count": null,
      "outputs": [
        {
          "output_type": "display_data",
          "data": {
            "text/html": [
              "<html>\n",
              "<head><meta charset=\"utf-8\" /></head>\n",
              "<body>\n",
              "    <div>\n",
              "            <script src=\"https://cdnjs.cloudflare.com/ajax/libs/mathjax/2.7.5/MathJax.js?config=TeX-AMS-MML_SVG\"></script><script type=\"text/javascript\">if (window.MathJax) {MathJax.Hub.Config({SVG: {font: \"STIX-Web\"}});}</script>\n",
              "                <script type=\"text/javascript\">window.PlotlyConfig = {MathJaxConfig: 'local'};</script>\n",
              "        <script src=\"https://cdn.plot.ly/plotly-latest.min.js\"></script>    \n",
              "            <div id=\"87f7a8dc-3855-4064-92f7-1b8ad21ec0fc\" class=\"plotly-graph-div\" style=\"height:525px; width:100%;\"></div>\n",
              "            <script type=\"text/javascript\">\n",
              "                \n",
              "                    window.PLOTLYENV=window.PLOTLYENV || {};\n",
              "                    \n",
              "                if (document.getElementById(\"87f7a8dc-3855-4064-92f7-1b8ad21ec0fc\")) {\n",
              "                    Plotly.newPlot(\n",
              "                        '87f7a8dc-3855-4064-92f7-1b8ad21ec0fc',\n",
              "                        [{\"type\": \"scatter\", \"x\": [2, 3, 4, 5, 6, 7, 8, 9, 10, 11, 12, 13, 14, 15, 16, 17, 18, 19, 20], \"y\": [587396.0355974344, 439314.7423979731, 376284.74369015254, 329081.6823109029, 292108.4838758021, 258421.62696089872, 228335.663907032, 203910.01605373048, 187795.94372112874, 175345.4343382203, 166354.40734085703, 159375.00151784922, 150595.99864742806, 144191.51904750627, 139137.91336787087, 131551.89270531354, 126169.73212802286, 120612.44191793754, 116920.50732995357]}],\n",
              "                        {\"template\": {\"data\": {\"bar\": [{\"error_x\": {\"color\": \"#2a3f5f\"}, \"error_y\": {\"color\": \"#2a3f5f\"}, \"marker\": {\"line\": {\"color\": \"#E5ECF6\", \"width\": 0.5}}, \"type\": \"bar\"}], \"barpolar\": [{\"marker\": {\"line\": {\"color\": \"#E5ECF6\", \"width\": 0.5}}, \"type\": \"barpolar\"}], \"carpet\": [{\"aaxis\": {\"endlinecolor\": \"#2a3f5f\", \"gridcolor\": \"white\", \"linecolor\": \"white\", \"minorgridcolor\": \"white\", \"startlinecolor\": \"#2a3f5f\"}, \"baxis\": {\"endlinecolor\": \"#2a3f5f\", \"gridcolor\": \"white\", \"linecolor\": \"white\", \"minorgridcolor\": \"white\", \"startlinecolor\": \"#2a3f5f\"}, \"type\": \"carpet\"}], \"choropleth\": [{\"colorbar\": {\"outlinewidth\": 0, \"ticks\": \"\"}, \"type\": \"choropleth\"}], \"contour\": [{\"colorbar\": {\"outlinewidth\": 0, \"ticks\": \"\"}, \"colorscale\": [[0.0, \"#0d0887\"], [0.1111111111111111, \"#46039f\"], [0.2222222222222222, \"#7201a8\"], [0.3333333333333333, \"#9c179e\"], [0.4444444444444444, \"#bd3786\"], [0.5555555555555556, \"#d8576b\"], [0.6666666666666666, \"#ed7953\"], [0.7777777777777778, \"#fb9f3a\"], [0.8888888888888888, \"#fdca26\"], [1.0, \"#f0f921\"]], \"type\": \"contour\"}], \"contourcarpet\": [{\"colorbar\": {\"outlinewidth\": 0, \"ticks\": \"\"}, \"type\": \"contourcarpet\"}], \"heatmap\": [{\"colorbar\": {\"outlinewidth\": 0, \"ticks\": \"\"}, \"colorscale\": [[0.0, \"#0d0887\"], [0.1111111111111111, \"#46039f\"], [0.2222222222222222, \"#7201a8\"], [0.3333333333333333, \"#9c179e\"], [0.4444444444444444, \"#bd3786\"], [0.5555555555555556, \"#d8576b\"], [0.6666666666666666, \"#ed7953\"], [0.7777777777777778, \"#fb9f3a\"], [0.8888888888888888, \"#fdca26\"], [1.0, \"#f0f921\"]], \"type\": \"heatmap\"}], \"heatmapgl\": [{\"colorbar\": {\"outlinewidth\": 0, \"ticks\": \"\"}, \"colorscale\": [[0.0, \"#0d0887\"], [0.1111111111111111, \"#46039f\"], [0.2222222222222222, \"#7201a8\"], [0.3333333333333333, \"#9c179e\"], [0.4444444444444444, \"#bd3786\"], [0.5555555555555556, \"#d8576b\"], [0.6666666666666666, \"#ed7953\"], [0.7777777777777778, \"#fb9f3a\"], [0.8888888888888888, \"#fdca26\"], [1.0, \"#f0f921\"]], \"type\": \"heatmapgl\"}], \"histogram\": [{\"marker\": {\"colorbar\": {\"outlinewidth\": 0, \"ticks\": \"\"}}, \"type\": \"histogram\"}], \"histogram2d\": [{\"colorbar\": {\"outlinewidth\": 0, \"ticks\": \"\"}, \"colorscale\": [[0.0, \"#0d0887\"], [0.1111111111111111, \"#46039f\"], [0.2222222222222222, \"#7201a8\"], [0.3333333333333333, \"#9c179e\"], [0.4444444444444444, \"#bd3786\"], [0.5555555555555556, \"#d8576b\"], [0.6666666666666666, \"#ed7953\"], [0.7777777777777778, \"#fb9f3a\"], [0.8888888888888888, \"#fdca26\"], [1.0, \"#f0f921\"]], \"type\": \"histogram2d\"}], \"histogram2dcontour\": [{\"colorbar\": {\"outlinewidth\": 0, \"ticks\": \"\"}, \"colorscale\": [[0.0, \"#0d0887\"], [0.1111111111111111, \"#46039f\"], [0.2222222222222222, \"#7201a8\"], [0.3333333333333333, \"#9c179e\"], [0.4444444444444444, \"#bd3786\"], [0.5555555555555556, \"#d8576b\"], [0.6666666666666666, \"#ed7953\"], [0.7777777777777778, \"#fb9f3a\"], [0.8888888888888888, \"#fdca26\"], [1.0, \"#f0f921\"]], \"type\": \"histogram2dcontour\"}], \"mesh3d\": [{\"colorbar\": {\"outlinewidth\": 0, \"ticks\": \"\"}, \"type\": \"mesh3d\"}], \"parcoords\": [{\"line\": {\"colorbar\": {\"outlinewidth\": 0, \"ticks\": \"\"}}, \"type\": \"parcoords\"}], \"pie\": [{\"automargin\": true, \"type\": \"pie\"}], \"scatter\": [{\"marker\": {\"colorbar\": {\"outlinewidth\": 0, \"ticks\": \"\"}}, \"type\": \"scatter\"}], \"scatter3d\": [{\"line\": {\"colorbar\": {\"outlinewidth\": 0, \"ticks\": \"\"}}, \"marker\": {\"colorbar\": {\"outlinewidth\": 0, \"ticks\": \"\"}}, \"type\": \"scatter3d\"}], \"scattercarpet\": [{\"marker\": {\"colorbar\": {\"outlinewidth\": 0, \"ticks\": \"\"}}, \"type\": \"scattercarpet\"}], \"scattergeo\": [{\"marker\": {\"colorbar\": {\"outlinewidth\": 0, \"ticks\": \"\"}}, \"type\": \"scattergeo\"}], \"scattergl\": [{\"marker\": {\"colorbar\": {\"outlinewidth\": 0, \"ticks\": \"\"}}, \"type\": \"scattergl\"}], \"scattermapbox\": [{\"marker\": {\"colorbar\": {\"outlinewidth\": 0, \"ticks\": \"\"}}, \"type\": \"scattermapbox\"}], \"scatterpolar\": [{\"marker\": {\"colorbar\": {\"outlinewidth\": 0, \"ticks\": \"\"}}, \"type\": \"scatterpolar\"}], \"scatterpolargl\": [{\"marker\": {\"colorbar\": {\"outlinewidth\": 0, \"ticks\": \"\"}}, \"type\": \"scatterpolargl\"}], \"scatterternary\": [{\"marker\": {\"colorbar\": {\"outlinewidth\": 0, \"ticks\": \"\"}}, \"type\": \"scatterternary\"}], \"surface\": [{\"colorbar\": {\"outlinewidth\": 0, \"ticks\": \"\"}, \"colorscale\": [[0.0, \"#0d0887\"], [0.1111111111111111, \"#46039f\"], [0.2222222222222222, \"#7201a8\"], [0.3333333333333333, \"#9c179e\"], [0.4444444444444444, \"#bd3786\"], [0.5555555555555556, \"#d8576b\"], [0.6666666666666666, \"#ed7953\"], [0.7777777777777778, \"#fb9f3a\"], [0.8888888888888888, \"#fdca26\"], [1.0, \"#f0f921\"]], \"type\": \"surface\"}], \"table\": [{\"cells\": {\"fill\": {\"color\": \"#EBF0F8\"}, \"line\": {\"color\": \"white\"}}, \"header\": {\"fill\": {\"color\": \"#C8D4E3\"}, \"line\": {\"color\": \"white\"}}, \"type\": \"table\"}]}, \"layout\": {\"annotationdefaults\": {\"arrowcolor\": \"#2a3f5f\", \"arrowhead\": 0, \"arrowwidth\": 1}, \"coloraxis\": {\"colorbar\": {\"outlinewidth\": 0, \"ticks\": \"\"}}, \"colorscale\": {\"diverging\": [[0, \"#8e0152\"], [0.1, \"#c51b7d\"], [0.2, \"#de77ae\"], [0.3, \"#f1b6da\"], [0.4, \"#fde0ef\"], [0.5, \"#f7f7f7\"], [0.6, \"#e6f5d0\"], [0.7, \"#b8e186\"], [0.8, \"#7fbc41\"], [0.9, \"#4d9221\"], [1, \"#276419\"]], \"sequential\": [[0.0, \"#0d0887\"], [0.1111111111111111, \"#46039f\"], [0.2222222222222222, \"#7201a8\"], [0.3333333333333333, \"#9c179e\"], [0.4444444444444444, \"#bd3786\"], [0.5555555555555556, \"#d8576b\"], [0.6666666666666666, \"#ed7953\"], [0.7777777777777778, \"#fb9f3a\"], [0.8888888888888888, \"#fdca26\"], [1.0, \"#f0f921\"]], \"sequentialminus\": [[0.0, \"#0d0887\"], [0.1111111111111111, \"#46039f\"], [0.2222222222222222, \"#7201a8\"], [0.3333333333333333, \"#9c179e\"], [0.4444444444444444, \"#bd3786\"], [0.5555555555555556, \"#d8576b\"], [0.6666666666666666, \"#ed7953\"], [0.7777777777777778, \"#fb9f3a\"], [0.8888888888888888, \"#fdca26\"], [1.0, \"#f0f921\"]]}, \"colorway\": [\"#636efa\", \"#EF553B\", \"#00cc96\", \"#ab63fa\", \"#FFA15A\", \"#19d3f3\", \"#FF6692\", \"#B6E880\", \"#FF97FF\", \"#FECB52\"], \"font\": {\"color\": \"#2a3f5f\"}, \"geo\": {\"bgcolor\": \"white\", \"lakecolor\": \"white\", \"landcolor\": \"#E5ECF6\", \"showlakes\": true, \"showland\": true, \"subunitcolor\": \"white\"}, \"hoverlabel\": {\"align\": \"left\"}, \"hovermode\": \"closest\", \"mapbox\": {\"style\": \"light\"}, \"paper_bgcolor\": \"white\", \"plot_bgcolor\": \"#E5ECF6\", \"polar\": {\"angularaxis\": {\"gridcolor\": \"white\", \"linecolor\": \"white\", \"ticks\": \"\"}, \"bgcolor\": \"#E5ECF6\", \"radialaxis\": {\"gridcolor\": \"white\", \"linecolor\": \"white\", \"ticks\": \"\"}}, \"scene\": {\"xaxis\": {\"backgroundcolor\": \"#E5ECF6\", \"gridcolor\": \"white\", \"gridwidth\": 2, \"linecolor\": \"white\", \"showbackground\": true, \"ticks\": \"\", \"zerolinecolor\": \"white\"}, \"yaxis\": {\"backgroundcolor\": \"#E5ECF6\", \"gridcolor\": \"white\", \"gridwidth\": 2, \"linecolor\": \"white\", \"showbackground\": true, \"ticks\": \"\", \"zerolinecolor\": \"white\"}, \"zaxis\": {\"backgroundcolor\": \"#E5ECF6\", \"gridcolor\": \"white\", \"gridwidth\": 2, \"linecolor\": \"white\", \"showbackground\": true, \"ticks\": \"\", \"zerolinecolor\": \"white\"}}, \"shapedefaults\": {\"line\": {\"color\": \"#2a3f5f\"}}, \"ternary\": {\"aaxis\": {\"gridcolor\": \"white\", \"linecolor\": \"white\", \"ticks\": \"\"}, \"baxis\": {\"gridcolor\": \"white\", \"linecolor\": \"white\", \"ticks\": \"\"}, \"bgcolor\": \"#E5ECF6\", \"caxis\": {\"gridcolor\": \"white\", \"linecolor\": \"white\", \"ticks\": \"\"}}, \"title\": {\"x\": 0.05}, \"xaxis\": {\"automargin\": true, \"gridcolor\": \"white\", \"linecolor\": \"white\", \"ticks\": \"\", \"title\": {\"standoff\": 15}, \"zerolinecolor\": \"white\", \"zerolinewidth\": 2}, \"yaxis\": {\"automargin\": true, \"gridcolor\": \"white\", \"linecolor\": \"white\", \"ticks\": \"\", \"title\": {\"standoff\": 15}, \"zerolinecolor\": \"white\", \"zerolinewidth\": 2}}}, \"title\": {\"text\": \"WCSS vs. Cluster number\"}, \"xaxis\": {\"title\": {\"text\": \"Clusters\"}}, \"yaxis\": {\"title\": {\"text\": \"WCSS\"}}},\n",
              "                        {\"responsive\": true}\n",
              "                    ).then(function(){\n",
              "                            \n",
              "var gd = document.getElementById('87f7a8dc-3855-4064-92f7-1b8ad21ec0fc');\n",
              "var x = new MutationObserver(function (mutations, observer) {{\n",
              "        var display = window.getComputedStyle(gd).display;\n",
              "        if (!display || display === 'none') {{\n",
              "            console.log([gd, 'removed!']);\n",
              "            Plotly.purge(gd);\n",
              "            observer.disconnect();\n",
              "        }}\n",
              "}});\n",
              "\n",
              "// Listen for the removal of the full notebook cells\n",
              "var notebookContainer = gd.closest('#notebook-container');\n",
              "if (notebookContainer) {{\n",
              "    x.observe(notebookContainer, {childList: true});\n",
              "}}\n",
              "\n",
              "// Listen for the clearing of the current output cell\n",
              "var outputEl = gd.closest('.output');\n",
              "if (outputEl) {{\n",
              "    x.observe(outputEl, {childList: true});\n",
              "}}\n",
              "\n",
              "                        })\n",
              "                };\n",
              "                \n",
              "            </script>\n",
              "        </div>\n",
              "</body>\n",
              "</html>"
            ]
          },
          "metadata": {}
        }
      ]
    },
    {
      "cell_type": "code",
      "metadata": {
        "id": "JPg2VgkgABVE"
      },
      "source": [
        "kmeans = KMeans(n_clusters=4, random_state=42).fit(X)"
      ],
      "execution_count": null,
      "outputs": []
    },
    {
      "cell_type": "code",
      "metadata": {
        "id": "FOcrlZg4AEPM"
      },
      "source": [
        "X_clusted = kmeans.predict(X)"
      ],
      "execution_count": null,
      "outputs": []
    },
    {
      "cell_type": "code",
      "metadata": {
        "id": "4X9w5trsAFv8"
      },
      "source": [
        "data['label'] = X_clusted"
      ],
      "execution_count": null,
      "outputs": []
    },
    {
      "cell_type": "code",
      "metadata": {
        "colab": {
          "base_uri": "https://localhost:8080/",
          "height": 292
        },
        "id": "z96-8T80ATTu",
        "outputId": "57c45451-0557-4249-f3d8-8585e9e41586"
      },
      "source": [
        "data.head()"
      ],
      "execution_count": null,
      "outputs": [
        {
          "output_type": "execute_result",
          "data": {
            "text/html": [
              "<div>\n",
              "<style scoped>\n",
              "    .dataframe tbody tr th:only-of-type {\n",
              "        vertical-align: middle;\n",
              "    }\n",
              "\n",
              "    .dataframe tbody tr th {\n",
              "        vertical-align: top;\n",
              "    }\n",
              "\n",
              "    .dataframe thead th {\n",
              "        text-align: right;\n",
              "    }\n",
              "</style>\n",
              "<table border=\"1\" class=\"dataframe\">\n",
              "  <thead>\n",
              "    <tr style=\"text-align: right;\">\n",
              "      <th></th>\n",
              "      <th>cliente</th>\n",
              "      <th>setor_cnae</th>\n",
              "      <th>porte_do_cliente</th>\n",
              "      <th>juros</th>\n",
              "      <th>valor_em_reais</th>\n",
              "      <th>prazo_carencia_meses</th>\n",
              "      <th>prazo_amortizacao_meses</th>\n",
              "      <th>valor_contratado_reais</th>\n",
              "      <th>label</th>\n",
              "    </tr>\n",
              "  </thead>\n",
              "  <tbody>\n",
              "    <tr>\n",
              "      <th>0</th>\n",
              "      <td>BANCO COOPERATIVO SICOOB S.A.</td>\n",
              "      <td>0</td>\n",
              "      <td>0</td>\n",
              "      <td>8.75</td>\n",
              "      <td>16000.0</td>\n",
              "      <td>24</td>\n",
              "      <td>36</td>\n",
              "      <td>16000.0</td>\n",
              "      <td>2</td>\n",
              "    </tr>\n",
              "    <tr>\n",
              "      <th>1</th>\n",
              "      <td>BANCO COOPERATIVO SICOOB S.A.</td>\n",
              "      <td>0</td>\n",
              "      <td>0</td>\n",
              "      <td>8.75</td>\n",
              "      <td>30447.0</td>\n",
              "      <td>24</td>\n",
              "      <td>36</td>\n",
              "      <td>30447.0</td>\n",
              "      <td>2</td>\n",
              "    </tr>\n",
              "    <tr>\n",
              "      <th>2</th>\n",
              "      <td>BANCO COOPERATIVO SICOOB S.A.</td>\n",
              "      <td>0</td>\n",
              "      <td>0</td>\n",
              "      <td>4.00</td>\n",
              "      <td>5000.0</td>\n",
              "      <td>12</td>\n",
              "      <td>54</td>\n",
              "      <td>5000.0</td>\n",
              "      <td>2</td>\n",
              "    </tr>\n",
              "    <tr>\n",
              "      <th>3</th>\n",
              "      <td>BANCO COOPERATIVO SICOOB S.A.</td>\n",
              "      <td>0</td>\n",
              "      <td>0</td>\n",
              "      <td>8.75</td>\n",
              "      <td>25000.0</td>\n",
              "      <td>0</td>\n",
              "      <td>60</td>\n",
              "      <td>25000.0</td>\n",
              "      <td>2</td>\n",
              "    </tr>\n",
              "    <tr>\n",
              "      <th>4</th>\n",
              "      <td>BANCO COOPERATIVO SICOOB S.A.</td>\n",
              "      <td>0</td>\n",
              "      <td>0</td>\n",
              "      <td>8.75</td>\n",
              "      <td>20326.0</td>\n",
              "      <td>12</td>\n",
              "      <td>48</td>\n",
              "      <td>20326.0</td>\n",
              "      <td>2</td>\n",
              "    </tr>\n",
              "  </tbody>\n",
              "</table>\n",
              "</div>"
            ],
            "text/plain": [
              "                         cliente  setor_cnae  ...  valor_contratado_reais  label\n",
              "0  BANCO COOPERATIVO SICOOB S.A.           0  ...                 16000.0      2\n",
              "1  BANCO COOPERATIVO SICOOB S.A.           0  ...                 30447.0      2\n",
              "2  BANCO COOPERATIVO SICOOB S.A.           0  ...                  5000.0      2\n",
              "3  BANCO COOPERATIVO SICOOB S.A.           0  ...                 25000.0      2\n",
              "4  BANCO COOPERATIVO SICOOB S.A.           0  ...                 20326.0      2\n",
              "\n",
              "[5 rows x 9 columns]"
            ]
          },
          "metadata": {},
          "execution_count": 476
        }
      ]
    },
    {
      "cell_type": "code",
      "metadata": {
        "colab": {
          "base_uri": "https://localhost:8080/"
        },
        "id": "Gzm_kyfTgEut",
        "outputId": "6bf4ca89-79e3-4d34-ef42-cb5722a51627"
      },
      "source": [
        "data['valor_em_reais'].max()"
      ],
      "execution_count": null,
      "outputs": [
        {
          "output_type": "execute_result",
          "data": {
            "text/plain": [
              "183837000.0"
            ]
          },
          "metadata": {},
          "execution_count": 439
        }
      ]
    },
    {
      "cell_type": "code",
      "metadata": {
        "colab": {
          "base_uri": "https://localhost:8080/",
          "height": 298
        },
        "id": "krm5oT25gamH",
        "outputId": "e30fdac9-1d56-4792-eb39-98cb4c79de45"
      },
      "source": [
        "sns.boxplot(x='valor_em_reais', data=data)"
      ],
      "execution_count": null,
      "outputs": [
        {
          "output_type": "execute_result",
          "data": {
            "text/plain": [
              "<matplotlib.axes._subplots.AxesSubplot at 0x7f89d9002610>"
            ]
          },
          "metadata": {},
          "execution_count": 440
        },
        {
          "output_type": "display_data",
          "data": {
            "image/png": "[encoded data removed]",
            "text/plain": [
              "<Figure size 432x288 with 1 Axes>"
            ]
          },
          "metadata": {
            "needs_background": "light"
          }
        }
      ]
    },
    {
      "cell_type": "code",
      "metadata": {
        "colab": {
          "base_uri": "https://localhost:8080/",
          "height": 298
        },
        "id": "7Nkl_vXRgkXN",
        "outputId": "6fc65a7c-7499-4b27-ac4d-fd3223c1e676"
      },
      "source": [
        "sns.scatterplot(x='valor_em_reais', y='setor_cnae', data=data)"
      ],
      "execution_count": null,
      "outputs": [
        {
          "output_type": "execute_result",
          "data": {
            "text/plain": [
              "<matplotlib.axes._subplots.AxesSubplot at 0x7f89d8c29d50>"
            ]
          },
          "metadata": {},
          "execution_count": 416
        },
        {
          "output_type": "display_data",
          "data": {
            "image/png": "[encoded data removed]",
            "text/plain": [
              "<Figure size 432x288 with 1 Axes>"
            ]
          },
          "metadata": {
            "needs_background": "light"
          }
        }
      ]
    },
    {
      "cell_type": "code",
      "metadata": {
        "colab": {
          "base_uri": "https://localhost:8080/"
        },
        "id": "EcHTC-bagUBw",
        "outputId": "25f2f516-3c40-411f-ed65-b90ae013e649"
      },
      "source": [
        "dtx['valor_em_reais'].median()"
      ],
      "execution_count": null,
      "outputs": [
        {
          "output_type": "execute_result",
          "data": {
            "text/plain": [
              "269973.0"
            ]
          },
          "metadata": {},
          "execution_count": 418
        }
      ]
    },
    {
      "cell_type": "code",
      "metadata": {
        "colab": {
          "base_uri": "https://localhost:8080/"
        },
        "id": "ytvXeSyagLhJ",
        "outputId": "5b6d474b-f92e-4db6-cf38-cbbd9050845c"
      },
      "source": [
        "dtx['valor_em_reais'].min()"
      ],
      "execution_count": null,
      "outputs": [
        {
          "output_type": "execute_result",
          "data": {
            "text/plain": [
              "10000.0"
            ]
          },
          "metadata": {},
          "execution_count": 446
        }
      ]
    },
    {
      "cell_type": "code",
      "metadata": {
        "colab": {
          "base_uri": "https://localhost:8080/"
        },
        "id": "yDzkdyAdAZOK",
        "outputId": "45d434c9-b73e-4d5a-8d05-237372cef751"
      },
      "source": [
        " data.groupby('setor_cnae')['label'].value_counts()"
      ],
      "execution_count": null,
      "outputs": [
        {
          "output_type": "execute_result",
          "data": {
            "text/plain": [
              "setor_cnae  label\n",
              "0           0        46028\n",
              "            2        36577\n",
              "            1         3874\n",
              "            3          597\n",
              "1           1         3335\n",
              "            3          888\n",
              "            0          468\n",
              "            2          232\n",
              "2           1         8465\n",
              "            3         1556\n",
              "            0           13\n",
              "            2           13\n",
              "3           1           39\n",
              "Name: label, dtype: int64"
            ]
          },
          "metadata": {},
          "execution_count": 497
        }
      ]
    },
    {
      "cell_type": "code",
      "metadata": {
        "colab": {
          "base_uri": "https://localhost:8080/"
        },
        "id": "26QJGK-qtWEa",
        "outputId": "5365efc9-8085-4d17-d2da-8e1d79587466"
      },
      "source": [
        "data['label'].value_counts()"
      ],
      "execution_count": null,
      "outputs": [
        {
          "output_type": "execute_result",
          "data": {
            "text/plain": [
              "0    46509\n",
              "2    36822\n",
              "1    15713\n",
              "3     3041\n",
              "Name: label, dtype: int64"
            ]
          },
          "metadata": {},
          "execution_count": 498
        }
      ]
    },
    {
      "cell_type": "code",
      "metadata": {
        "colab": {
          "base_uri": "https://localhost:8080/"
        },
        "id": "cgPzmLgZtLPB",
        "outputId": "202a2a6d-dc5e-405a-88a6-c5c8c08ddbdb"
      },
      "source": [
        "data['label'].value_counts()"
      ],
      "execution_count": null,
      "outputs": [
        {
          "output_type": "execute_result",
          "data": {
            "text/plain": [
              "1    14741\n",
              "0     1309\n",
              "2      368\n",
              "3      124\n",
              "Name: label, dtype: int64"
            ]
          },
          "metadata": {},
          "execution_count": 124
        }
      ]
    },
    {
      "cell_type": "markdown",
      "metadata": {
        "id": "QkUwblwWZA9u"
      },
      "source": [
        "# PCA Plot"
      ]
    },
    {
      "cell_type": "code",
      "metadata": {
        "id": "8zDmwyCMZT14"
      },
      "source": [
        "from sklearn.decomposition import PCA"
      ],
      "execution_count": 11,
      "outputs": []
    },
    {
      "cell_type": "code",
      "metadata": {
        "id": "OilkwnluZZPS"
      },
      "source": [
        "pca = PCA(n_components=2).fit(X)\n",
        "X_pca = pca.transform(X)"
      ],
      "execution_count": 15,
      "outputs": []
    },
    {
      "cell_type": "code",
      "metadata": {
        "id": "lC_6rPW7ZsFS"
      },
      "source": [
        "kmeans = KMeans(n_clusters=4, random_state=42).fit(X_pca)"
      ],
      "execution_count": 16,
      "outputs": []
    },
    {
      "cell_type": "code",
      "metadata": {
        "colab": {
          "base_uri": "https://localhost:8080/",
          "height": 773
        },
        "id": "frChX6LhdQOy",
        "outputId": "2ae75533-e003-431b-e6c9-aec49342a04f"
      },
      "source": [
        "sns.color_palette(\"tab10\")\n",
        "plt.figure(figsize=(15, 10))\n",
        "sns.scatterplot(X_pca[:, 0], X_pca[:, 1], c=kmeans.labels_, cmap='RdBu')\n",
        "sns.scatterplot(kmeans.cluster_centers_[:, 0], kmeans.cluster_centers_[:, 1], s=200, color='black', label='Centroids')\n",
        "plt.title('PCA')\n",
        "plt.legend()\n",
        "plt.show()"
      ],
      "execution_count": 17,
      "outputs": [
        {
          "output_type": "stream",
          "text": [
            "/usr/local/lib/python3.7/dist-packages/seaborn/_decorators.py:43: FutureWarning:\n",
            "\n",
            "Pass the following variables as keyword args: x, y. From version 0.12, the only valid positional argument will be `data`, and passing other arguments without an explicit keyword will result in an error or misinterpretation.\n",
            "\n",
            "/usr/local/lib/python3.7/dist-packages/seaborn/_decorators.py:43: FutureWarning:\n",
            "\n",
            "Pass the following variables as keyword args: x, y. From version 0.12, the only valid positional argument will be `data`, and passing other arguments without an explicit keyword will result in an error or misinterpretation.\n",
            "\n"
          ],
          "name": "stderr"
        },
        {
          "output_type": "display_data",
          "data": {
            "image/png": "[encoded data removed]",
            "text/plain": [
              "<Figure size 1080x720 with 1 Axes>"
            ]
          },
          "metadata": {
            "needs_background": "light"
          }
        }
      ]
    },
    {
      "cell_type": "code",
      "metadata": {
        "id": "NwctvVPRkUKC"
      },
      "source": [
        "from sklearn.metrics import silhouette_samples, silhouette_score\n",
        "\n",
        "for i in range(2, 11):\n",
        "    clusterer = KMeans(n_clusters=i)\n",
        "    preds = clusterer.fit_predict(X)\n",
        "    score = silhouette_score(X, preds)\n",
        "    print('Silhueta para ' + str(i) + ' clusters : ' + str(score))"
      ],
      "execution_count": null,
      "outputs": []
    },
    {
      "cell_type": "code",
      "metadata": {
        "id": "J7W2d9bQkoc3"
      },
      "source": [
        "from yellowbrick.cluster import KElbowVisualizer\n",
        "\n",
        "# Instantiate the clustering model and visualizer\n",
        "model = KMeans()\n",
        "visualizer = KElbowVisualizer(model, k=(2,12), metric='silhouette')\n",
        "\n",
        "visualizer.fit(X)        # Fit the data to the visualizer\n",
        "visualizer.show()        # Finalize and render the figure"
      ],
      "execution_count": null,
      "outputs": []
    },
    {
      "cell_type": "code",
      "metadata": {
        "colab": {
          "base_uri": "https://localhost:8080/",
          "height": 292
        },
        "id": "0f3RXYC1ubGf",
        "outputId": "0691b3ed-0865-41f1-efd5-09773d1c22cc"
      },
      "source": [
        "data.head()"
      ],
      "execution_count": null,
      "outputs": [
        {
          "output_type": "execute_result",
          "data": {
            "text/html": [
              "<div>\n",
              "<style scoped>\n",
              "    .dataframe tbody tr th:only-of-type {\n",
              "        vertical-align: middle;\n",
              "    }\n",
              "\n",
              "    .dataframe tbody tr th {\n",
              "        vertical-align: top;\n",
              "    }\n",
              "\n",
              "    .dataframe thead th {\n",
              "        text-align: right;\n",
              "    }\n",
              "</style>\n",
              "<table border=\"1\" class=\"dataframe\">\n",
              "  <thead>\n",
              "    <tr style=\"text-align: right;\">\n",
              "      <th></th>\n",
              "      <th>cliente</th>\n",
              "      <th>setor_cnae</th>\n",
              "      <th>porte_do_cliente</th>\n",
              "      <th>juros</th>\n",
              "      <th>valor_em_reais</th>\n",
              "      <th>prazo_carencia_meses</th>\n",
              "      <th>prazo_amortizacao_meses</th>\n",
              "      <th>valor_contratado_reais</th>\n",
              "      <th>label</th>\n",
              "    </tr>\n",
              "  </thead>\n",
              "  <tbody>\n",
              "    <tr>\n",
              "      <th>0</th>\n",
              "      <td>BANCO COOPERATIVO SICOOB S.A.</td>\n",
              "      <td>0</td>\n",
              "      <td>0</td>\n",
              "      <td>8.75</td>\n",
              "      <td>16000.0</td>\n",
              "      <td>24</td>\n",
              "      <td>36</td>\n",
              "      <td>16000.0</td>\n",
              "      <td>2</td>\n",
              "    </tr>\n",
              "    <tr>\n",
              "      <th>1</th>\n",
              "      <td>BANCO COOPERATIVO SICOOB S.A.</td>\n",
              "      <td>0</td>\n",
              "      <td>0</td>\n",
              "      <td>8.75</td>\n",
              "      <td>30447.0</td>\n",
              "      <td>24</td>\n",
              "      <td>36</td>\n",
              "      <td>30447.0</td>\n",
              "      <td>2</td>\n",
              "    </tr>\n",
              "    <tr>\n",
              "      <th>2</th>\n",
              "      <td>BANCO COOPERATIVO SICOOB S.A.</td>\n",
              "      <td>0</td>\n",
              "      <td>0</td>\n",
              "      <td>4.00</td>\n",
              "      <td>5000.0</td>\n",
              "      <td>12</td>\n",
              "      <td>54</td>\n",
              "      <td>5000.0</td>\n",
              "      <td>2</td>\n",
              "    </tr>\n",
              "    <tr>\n",
              "      <th>3</th>\n",
              "      <td>BANCO COOPERATIVO SICOOB S.A.</td>\n",
              "      <td>0</td>\n",
              "      <td>0</td>\n",
              "      <td>8.75</td>\n",
              "      <td>25000.0</td>\n",
              "      <td>0</td>\n",
              "      <td>60</td>\n",
              "      <td>25000.0</td>\n",
              "      <td>2</td>\n",
              "    </tr>\n",
              "    <tr>\n",
              "      <th>4</th>\n",
              "      <td>BANCO COOPERATIVO SICOOB S.A.</td>\n",
              "      <td>0</td>\n",
              "      <td>0</td>\n",
              "      <td>8.75</td>\n",
              "      <td>20326.0</td>\n",
              "      <td>12</td>\n",
              "      <td>48</td>\n",
              "      <td>20326.0</td>\n",
              "      <td>2</td>\n",
              "    </tr>\n",
              "  </tbody>\n",
              "</table>\n",
              "</div>"
            ],
            "text/plain": [
              "                         cliente  setor_cnae  ...  valor_contratado_reais  label\n",
              "0  BANCO COOPERATIVO SICOOB S.A.           0  ...                 16000.0      2\n",
              "1  BANCO COOPERATIVO SICOOB S.A.           0  ...                 30447.0      2\n",
              "2  BANCO COOPERATIVO SICOOB S.A.           0  ...                  5000.0      2\n",
              "3  BANCO COOPERATIVO SICOOB S.A.           0  ...                 25000.0      2\n",
              "4  BANCO COOPERATIVO SICOOB S.A.           0  ...                 20326.0      2\n",
              "\n",
              "[5 rows x 9 columns]"
            ]
          },
          "metadata": {},
          "execution_count": 500
        }
      ]
    },
    {
      "cell_type": "code",
      "metadata": {
        "colab": {
          "base_uri": "https://localhost:8080/"
        },
        "id": "M3gpIw5PFaE6",
        "outputId": "54084837-0d05-4f0a-ad9b-d9f688fb8a06"
      },
      "source": [
        "data.shape"
      ],
      "execution_count": null,
      "outputs": [
        {
          "output_type": "execute_result",
          "data": {
            "text/plain": [
              "(102085, 9)"
            ]
          },
          "metadata": {},
          "execution_count": 509
        }
      ]
    },
    {
      "cell_type": "code",
      "metadata": {
        "colab": {
          "base_uri": "https://localhost:8080/"
        },
        "id": "cT3A3DFdFbVl",
        "outputId": "827727e0-2ae7-43a5-a40c-3c8c40297441"
      },
      "source": [
        "df_join.shape"
      ],
      "execution_count": null,
      "outputs": [
        {
          "output_type": "execute_result",
          "data": {
            "text/plain": [
              "(16542, 54)"
            ]
          },
          "metadata": {},
          "execution_count": 510
        }
      ]
    },
    {
      "cell_type": "code",
      "metadata": {
        "id": "AmjspZelGOU4"
      },
      "source": [
        "data['id'] = df['id']"
      ],
      "execution_count": null,
      "outputs": []
    },
    {
      "cell_type": "code",
      "metadata": {
        "id": "S71m-jTwG9t0",
        "colab": {
          "base_uri": "https://localhost:8080/",
          "height": 398
        },
        "outputId": "fc4c540a-3a7a-42c0-e512-0c352fbc22ae"
      },
      "source": [
        "data.head()"
      ],
      "execution_count": null,
      "outputs": [
        {
          "output_type": "execute_result",
          "data": {
            "text/html": [
              "<div>\n",
              "<style scoped>\n",
              "    .dataframe tbody tr th:only-of-type {\n",
              "        vertical-align: middle;\n",
              "    }\n",
              "\n",
              "    .dataframe tbody tr th {\n",
              "        vertical-align: top;\n",
              "    }\n",
              "\n",
              "    .dataframe thead th {\n",
              "        text-align: right;\n",
              "    }\n",
              "</style>\n",
              "<table border=\"1\" class=\"dataframe\">\n",
              "  <thead>\n",
              "    <tr style=\"text-align: right;\">\n",
              "      <th></th>\n",
              "      <th>cliente</th>\n",
              "      <th>setor_cnae</th>\n",
              "      <th>porte_do_cliente</th>\n",
              "      <th>juros</th>\n",
              "      <th>valor_em_reais</th>\n",
              "      <th>prazo_carencia_meses</th>\n",
              "      <th>prazo_amortizacao_meses</th>\n",
              "      <th>valor_contratado_reais</th>\n",
              "      <th>label</th>\n",
              "      <th>id</th>\n",
              "    </tr>\n",
              "  </thead>\n",
              "  <tbody>\n",
              "    <tr>\n",
              "      <th>0</th>\n",
              "      <td>BANCO COOPERATIVO SICOOB S.A.</td>\n",
              "      <td>0</td>\n",
              "      <td>0</td>\n",
              "      <td>8.75</td>\n",
              "      <td>16000.0</td>\n",
              "      <td>24</td>\n",
              "      <td>36</td>\n",
              "      <td>16000.0</td>\n",
              "      <td>0</td>\n",
              "      <td>382320001SP</td>\n",
              "    </tr>\n",
              "    <tr>\n",
              "      <th>1</th>\n",
              "      <td>BANCO COOPERATIVO SICOOB S.A.</td>\n",
              "      <td>0</td>\n",
              "      <td>0</td>\n",
              "      <td>8.75</td>\n",
              "      <td>30447.0</td>\n",
              "      <td>24</td>\n",
              "      <td>36</td>\n",
              "      <td>30447.0</td>\n",
              "      <td>0</td>\n",
              "      <td>382320001BA</td>\n",
              "    </tr>\n",
              "    <tr>\n",
              "      <th>2</th>\n",
              "      <td>BANCO COOPERATIVO SICOOB S.A.</td>\n",
              "      <td>0</td>\n",
              "      <td>0</td>\n",
              "      <td>4.00</td>\n",
              "      <td>5000.0</td>\n",
              "      <td>12</td>\n",
              "      <td>54</td>\n",
              "      <td>5000.0</td>\n",
              "      <td>0</td>\n",
              "      <td>382320001MG</td>\n",
              "    </tr>\n",
              "    <tr>\n",
              "      <th>3</th>\n",
              "      <td>BANCO COOPERATIVO SICOOB S.A.</td>\n",
              "      <td>0</td>\n",
              "      <td>0</td>\n",
              "      <td>8.75</td>\n",
              "      <td>25000.0</td>\n",
              "      <td>0</td>\n",
              "      <td>60</td>\n",
              "      <td>25000.0</td>\n",
              "      <td>0</td>\n",
              "      <td>382320001MG</td>\n",
              "    </tr>\n",
              "    <tr>\n",
              "      <th>4</th>\n",
              "      <td>BANCO COOPERATIVO SICOOB S.A.</td>\n",
              "      <td>0</td>\n",
              "      <td>0</td>\n",
              "      <td>8.75</td>\n",
              "      <td>20326.0</td>\n",
              "      <td>12</td>\n",
              "      <td>48</td>\n",
              "      <td>20326.0</td>\n",
              "      <td>0</td>\n",
              "      <td>382320001RO</td>\n",
              "    </tr>\n",
              "  </tbody>\n",
              "</table>\n",
              "</div>"
            ],
            "text/plain": [
              "                         cliente  setor_cnae  ...  label           id\n",
              "0  BANCO COOPERATIVO SICOOB S.A.           0  ...      0  382320001SP\n",
              "1  BANCO COOPERATIVO SICOOB S.A.           0  ...      0  382320001BA\n",
              "2  BANCO COOPERATIVO SICOOB S.A.           0  ...      0  382320001MG\n",
              "3  BANCO COOPERATIVO SICOOB S.A.           0  ...      0  382320001MG\n",
              "4  BANCO COOPERATIVO SICOOB S.A.           0  ...      0  382320001RO\n",
              "\n",
              "[5 rows x 10 columns]"
            ]
          },
          "metadata": {},
          "execution_count": 45
        }
      ]
    },
    {
      "cell_type": "code",
      "metadata": {
        "id": "BOwKEVh0Ale1"
      },
      "source": [
        "data.to_csv('/content/drive/Shareddrives/bndes-arquivos/operacoes_cluster.csv', index=False)"
      ],
      "execution_count": null,
      "outputs": []
    },
    {
      "cell_type": "markdown",
      "metadata": {
        "id": "sGX5kQBn5u4i"
      },
      "source": [
        "# Model Test"
      ]
    },
    {
      "cell_type": "code",
      "metadata": {
        "id": "7P6wEkc0X_oF"
      },
      "source": [
        "import pandas as pd\n",
        "import numpy as np"
      ],
      "execution_count": null,
      "outputs": []
    },
    {
      "cell_type": "code",
      "metadata": {
        "id": "aeWsXEX35xiq"
      },
      "source": [
        "df_op = pd.read_csv('/content/drive/Shareddrives/bndes-arquivos/operacoes_cluster.csv')\n",
        "df_cross = pd.read_parquet('/content/drive/Shareddrives/bndes-arquivos/cross-table.parquet')\n",
        "label = pd.read_excel('/content/drive/Shareddrives/bndes-arquivos/cross-table-rene.xlsx')"
      ],
      "execution_count": null,
      "outputs": []
    },
    {
      "cell_type": "code",
      "metadata": {
        "id": "Pv1VuYCQF-Dq",
        "colab": {
          "base_uri": "https://localhost:8080/",
          "height": 502
        },
        "outputId": "33cf0afd-4a2a-45d4-ec6f-cfd0e08fffb8"
      },
      "source": [
        "label.head()"
      ],
      "execution_count": null,
      "outputs": [
        {
          "output_type": "execute_result",
          "data": {
            "text/html": [
              "<div>\n",
              "<style scoped>\n",
              "    .dataframe tbody tr th:only-of-type {\n",
              "        vertical-align: middle;\n",
              "    }\n",
              "\n",
              "    .dataframe tbody tr th {\n",
              "        vertical-align: top;\n",
              "    }\n",
              "\n",
              "    .dataframe thead th {\n",
              "        text-align: right;\n",
              "    }\n",
              "</style>\n",
              "<table border=\"1\" class=\"dataframe\">\n",
              "  <thead>\n",
              "    <tr style=\"text-align: right;\">\n",
              "      <th></th>\n",
              "      <th>id</th>\n",
              "      <th>cliente</th>\n",
              "      <th>cnpj</th>\n",
              "      <th>uf</th>\n",
              "      <th>municipio</th>\n",
              "      <th>municipio_codigo</th>\n",
              "      <th>data_da_contratacao</th>\n",
              "      <th>valor_em_reais</th>\n",
              "      <th>valor_desembolsado_reais</th>\n",
              "      <th>fonte_de_recurso_desembolsos</th>\n",
              "      <th>custo_financeiro</th>\n",
              "      <th>juros</th>\n",
              "      <th>prazo_carencia_meses</th>\n",
              "      <th>prazo_amortizacao_meses</th>\n",
              "      <th>modalidade_de_apoio</th>\n",
              "      <th>forma_de_apoio</th>\n",
              "      <th>produto</th>\n",
              "      <th>instrumento_financeiro</th>\n",
              "      <th>inovacao</th>\n",
              "      <th>area_operacional</th>\n",
              "      <th>setor_cnae</th>\n",
              "      <th>subsetor_cnae_agrupado</th>\n",
              "      <th>subsetor_cnae_codigo</th>\n",
              "      <th>subsetor_cnae_nome</th>\n",
              "      <th>setor_bndes</th>\n",
              "      <th>subsetor_bndes</th>\n",
              "      <th>porte_do_cliente</th>\n",
              "      <th>natureza_do_cliente</th>\n",
              "      <th>instituicao_financeira_credenciada</th>\n",
              "      <th>cnpj_do_agente_financeiro</th>\n",
              "      <th>situacao</th>\n",
              "      <th>origem</th>\n",
              "      <th>valor_contratado_reais</th>\n",
              "      <th>descricao_do_projeto</th>\n",
              "      <th>numero_do_contrato</th>\n",
              "      <th>tipo_de_garantia</th>\n",
              "      <th>tipo_de_excepcionalidade</th>\n",
              "      <th>cnpj_base</th>\n",
              "      <th>cnpj_ordem</th>\n",
              "      <th>cnpj_dv</th>\n",
              "      <th>situacao_data</th>\n",
              "      <th>atividade_inicio</th>\n",
              "      <th>cnae_principal</th>\n",
              "      <th>cep</th>\n",
              "      <th>municipio (#1)</th>\n",
              "      <th>cnae_descricao</th>\n",
              "      <th>natureza</th>\n",
              "      <th>capital_social</th>\n",
              "      <th>porte_empresa</th>\n",
              "      <th>natureza_descricao</th>\n",
              "      <th>nome_empresarial</th>\n",
              "      <th>cnae_secundario</th>\n",
              "      <th>label</th>\n",
              "    </tr>\n",
              "  </thead>\n",
              "  <tbody>\n",
              "    <tr>\n",
              "      <th>0</th>\n",
              "      <td>382320001MG</td>\n",
              "      <td>BANCO COOPERATIVO SICOOB S.A.</td>\n",
              "      <td>**.*38.232/0001-**</td>\n",
              "      <td>MG</td>\n",
              "      <td>CAMPOS ALTOS</td>\n",
              "      <td>3111507</td>\n",
              "      <td>2002-01-02</td>\n",
              "      <td>5000</td>\n",
              "      <td>5000</td>\n",
              "      <td>RECURSOS VINCULADOS - FAT DEPA“SITOS ESPECIAIS</td>\n",
              "      <td>TAXA FIXA</td>\n",
              "      <td>4,0</td>\n",
              "      <td>12</td>\n",
              "      <td>54</td>\n",
              "      <td>REEMBOLSAVEL</td>\n",
              "      <td>INDIRETA</td>\n",
              "      <td>BNDES AUTOMATICO</td>\n",
              "      <td>PRONAF INVESTIMENTO</td>\n",
              "      <td>NAO</td>\n",
              "      <td>AREA DE OPERACOES E CANAIS DIGITAIS</td>\n",
              "      <td>AGROPECUARIA E PESCA</td>\n",
              "      <td>AgropecuA¡ria</td>\n",
              "      <td>A0100000</td>\n",
              "      <td>AGRICULTURA, PECUARIA E SERVICOS RELACIONADOS</td>\n",
              "      <td>AGROPECUARIA</td>\n",
              "      <td>AGROPECUARIA</td>\n",
              "      <td>MICRO</td>\n",
              "      <td>PRIVADA</td>\n",
              "      <td>BANCO COOPERATIVO SICOOB S.A.</td>\n",
              "      <td>02.038.232.0001-64</td>\n",
              "      <td>LIQUIDADA</td>\n",
              "      <td>AUTOMATICA</td>\n",
              "      <td>5000</td>\n",
              "      <td>0</td>\n",
              "      <td>0</td>\n",
              "      <td>0</td>\n",
              "      <td>0</td>\n",
              "      <td>71238232</td>\n",
              "      <td>1</td>\n",
              "      <td>20</td>\n",
              "      <td>2005-11-01</td>\n",
              "      <td>1993-08-01</td>\n",
              "      <td>6424703</td>\n",
              "      <td>35534000</td>\n",
              "      <td>4289</td>\n",
              "      <td>Cooperativas de crédito mútuo</td>\n",
              "      <td>2143</td>\n",
              "      <td>0.0</td>\n",
              "      <td>demais</td>\n",
              "      <td>Cooperativa</td>\n",
              "      <td>COOPERATIVA DE CREDITO DO CENTRO SUL MINEIRO L...</td>\n",
              "      <td>NaN</td>\n",
              "      <td>2</td>\n",
              "    </tr>\n",
              "    <tr>\n",
              "      <th>1</th>\n",
              "      <td>382320001MG</td>\n",
              "      <td>BANCO COOPERATIVO SICOOB S.A.</td>\n",
              "      <td>**.*38.232/0001-**</td>\n",
              "      <td>MG</td>\n",
              "      <td>CAPITAO ANDRADE</td>\n",
              "      <td>3112653</td>\n",
              "      <td>2002-01-02</td>\n",
              "      <td>25000</td>\n",
              "      <td>25000</td>\n",
              "      <td>RECURSOS LIVRES - TESOURO</td>\n",
              "      <td>TAXA FIXA</td>\n",
              "      <td>8,75</td>\n",
              "      <td>0</td>\n",
              "      <td>60</td>\n",
              "      <td>REEMBOLSAVEL</td>\n",
              "      <td>INDIRETA</td>\n",
              "      <td>BNDES AUTOMATICO</td>\n",
              "      <td>OUTROS</td>\n",
              "      <td>NAO</td>\n",
              "      <td>AREA DE OPERACOES E CANAIS DIGITAIS</td>\n",
              "      <td>AGROPECUARIA E PESCA</td>\n",
              "      <td>AgropecuA¡ria</td>\n",
              "      <td>A0119900</td>\n",
              "      <td>CULT PLANTAS LAVOURA TEMPORARIA NAO ESPECIFICA...</td>\n",
              "      <td>AGROPECUARIA</td>\n",
              "      <td>AGROPECUARIA</td>\n",
              "      <td>MICRO</td>\n",
              "      <td>PRIVADA</td>\n",
              "      <td>BANCO COOPERATIVO SICOOB S.A.</td>\n",
              "      <td>02.038.232.0001-64</td>\n",
              "      <td>LIQUIDADA</td>\n",
              "      <td>AUTOMATICA</td>\n",
              "      <td>25000</td>\n",
              "      <td>0</td>\n",
              "      <td>0</td>\n",
              "      <td>0</td>\n",
              "      <td>0</td>\n",
              "      <td>71238232</td>\n",
              "      <td>1</td>\n",
              "      <td>20</td>\n",
              "      <td>2005-11-01</td>\n",
              "      <td>1993-08-01</td>\n",
              "      <td>6424703</td>\n",
              "      <td>35534000</td>\n",
              "      <td>4289</td>\n",
              "      <td>Cooperativas de crédito mútuo</td>\n",
              "      <td>2143</td>\n",
              "      <td>0.0</td>\n",
              "      <td>demais</td>\n",
              "      <td>Cooperativa</td>\n",
              "      <td>COOPERATIVA DE CREDITO DO CENTRO SUL MINEIRO L...</td>\n",
              "      <td>NaN</td>\n",
              "      <td>2</td>\n",
              "    </tr>\n",
              "    <tr>\n",
              "      <th>2</th>\n",
              "      <td>382320001MG</td>\n",
              "      <td>BANCO COOPERATIVO SICOOB S.A.</td>\n",
              "      <td>**.*38.232/0001-**</td>\n",
              "      <td>MG</td>\n",
              "      <td>PRESIDENTE OLEGARIO</td>\n",
              "      <td>3153400</td>\n",
              "      <td>2002-01-02</td>\n",
              "      <td>20000</td>\n",
              "      <td>20000</td>\n",
              "      <td>RECURSOS LIVRES - TESOURO</td>\n",
              "      <td>TAXA FIXA</td>\n",
              "      <td>8,75</td>\n",
              "      <td>6</td>\n",
              "      <td>30</td>\n",
              "      <td>REEMBOLSAVEL</td>\n",
              "      <td>INDIRETA</td>\n",
              "      <td>BNDES AUTOMATICO</td>\n",
              "      <td>OUTROS</td>\n",
              "      <td>NAO</td>\n",
              "      <td>AREA DE OPERACOES E CANAIS DIGITAIS</td>\n",
              "      <td>AGROPECUARIA E PESCA</td>\n",
              "      <td>AgropecuA¡ria</td>\n",
              "      <td>A0119900</td>\n",
              "      <td>CULT PLANTAS LAVOURA TEMPORARIA NAO ESPECIFICA...</td>\n",
              "      <td>AGROPECUARIA</td>\n",
              "      <td>AGROPECUARIA</td>\n",
              "      <td>MICRO</td>\n",
              "      <td>PRIVADA</td>\n",
              "      <td>BANCO COOPERATIVO SICOOB S.A.</td>\n",
              "      <td>02.038.232.0001-64</td>\n",
              "      <td>LIQUIDADA</td>\n",
              "      <td>AUTOMATICA</td>\n",
              "      <td>20000</td>\n",
              "      <td>0</td>\n",
              "      <td>0</td>\n",
              "      <td>0</td>\n",
              "      <td>0</td>\n",
              "      <td>71238232</td>\n",
              "      <td>1</td>\n",
              "      <td>20</td>\n",
              "      <td>2005-11-01</td>\n",
              "      <td>1993-08-01</td>\n",
              "      <td>6424703</td>\n",
              "      <td>35534000</td>\n",
              "      <td>4289</td>\n",
              "      <td>Cooperativas de crédito mútuo</td>\n",
              "      <td>2143</td>\n",
              "      <td>0.0</td>\n",
              "      <td>demais</td>\n",
              "      <td>Cooperativa</td>\n",
              "      <td>COOPERATIVA DE CREDITO DO CENTRO SUL MINEIRO L...</td>\n",
              "      <td>NaN</td>\n",
              "      <td>2</td>\n",
              "    </tr>\n",
              "    <tr>\n",
              "      <th>3</th>\n",
              "      <td>382320001MG</td>\n",
              "      <td>BANCO COOPERATIVO SICOOB S.A.</td>\n",
              "      <td>**.*38.232/0001-**</td>\n",
              "      <td>MG</td>\n",
              "      <td>TEOFILO OTONI</td>\n",
              "      <td>3168606</td>\n",
              "      <td>2002-01-02</td>\n",
              "      <td>20000</td>\n",
              "      <td>20000</td>\n",
              "      <td>RECURSOS LIVRES - TESOURO</td>\n",
              "      <td>TAXA FIXA</td>\n",
              "      <td>8,75</td>\n",
              "      <td>12</td>\n",
              "      <td>48</td>\n",
              "      <td>REEMBOLSAVEL</td>\n",
              "      <td>INDIRETA</td>\n",
              "      <td>BNDES AUTOMATICO</td>\n",
              "      <td>OUTROS</td>\n",
              "      <td>NAO</td>\n",
              "      <td>AREA DE OPERACOES E CANAIS DIGITAIS</td>\n",
              "      <td>AGROPECUARIA E PESCA</td>\n",
              "      <td>AgropecuA¡ria</td>\n",
              "      <td>A0119900</td>\n",
              "      <td>CULT PLANTAS LAVOURA TEMPORARIA NAO ESPECIFICA...</td>\n",
              "      <td>AGROPECUARIA</td>\n",
              "      <td>AGROPECUARIA</td>\n",
              "      <td>MICRO</td>\n",
              "      <td>PRIVADA</td>\n",
              "      <td>BANCO COOPERATIVO SICOOB S.A.</td>\n",
              "      <td>02.038.232.0001-64</td>\n",
              "      <td>LIQUIDADA</td>\n",
              "      <td>AUTOMATICA</td>\n",
              "      <td>20000</td>\n",
              "      <td>0</td>\n",
              "      <td>0</td>\n",
              "      <td>0</td>\n",
              "      <td>0</td>\n",
              "      <td>71238232</td>\n",
              "      <td>1</td>\n",
              "      <td>20</td>\n",
              "      <td>2005-11-01</td>\n",
              "      <td>1993-08-01</td>\n",
              "      <td>6424703</td>\n",
              "      <td>35534000</td>\n",
              "      <td>4289</td>\n",
              "      <td>Cooperativas de crédito mútuo</td>\n",
              "      <td>2143</td>\n",
              "      <td>0.0</td>\n",
              "      <td>demais</td>\n",
              "      <td>Cooperativa</td>\n",
              "      <td>COOPERATIVA DE CREDITO DO CENTRO SUL MINEIRO L...</td>\n",
              "      <td>NaN</td>\n",
              "      <td>2</td>\n",
              "    </tr>\n",
              "    <tr>\n",
              "      <th>4</th>\n",
              "      <td>382320001MG</td>\n",
              "      <td>BANCO COOPERATIVO SICOOB S.A.</td>\n",
              "      <td>**.*38.232/0001-**</td>\n",
              "      <td>MG</td>\n",
              "      <td>TEOFILO OTONI</td>\n",
              "      <td>3168606</td>\n",
              "      <td>2002-01-02</td>\n",
              "      <td>15000</td>\n",
              "      <td>15000</td>\n",
              "      <td>RECURSOS LIVRES - TESOURO</td>\n",
              "      <td>TAXA FIXA</td>\n",
              "      <td>8,75</td>\n",
              "      <td>12</td>\n",
              "      <td>48</td>\n",
              "      <td>REEMBOLSAVEL</td>\n",
              "      <td>INDIRETA</td>\n",
              "      <td>BNDES AUTOMATICO</td>\n",
              "      <td>OUTROS</td>\n",
              "      <td>NAO</td>\n",
              "      <td>AREA DE OPERACOES E CANAIS DIGITAIS</td>\n",
              "      <td>AGROPECUARIA E PESCA</td>\n",
              "      <td>AgropecuA¡ria</td>\n",
              "      <td>A0119900</td>\n",
              "      <td>CULT PLANTAS LAVOURA TEMPORARIA NAO ESPECIFICA...</td>\n",
              "      <td>AGROPECUARIA</td>\n",
              "      <td>AGROPECUARIA</td>\n",
              "      <td>MICRO</td>\n",
              "      <td>PRIVADA</td>\n",
              "      <td>BANCO COOPERATIVO SICOOB S.A.</td>\n",
              "      <td>02.038.232.0001-64</td>\n",
              "      <td>LIQUIDADA</td>\n",
              "      <td>AUTOMATICA</td>\n",
              "      <td>15000</td>\n",
              "      <td>0</td>\n",
              "      <td>0</td>\n",
              "      <td>0</td>\n",
              "      <td>0</td>\n",
              "      <td>71238232</td>\n",
              "      <td>1</td>\n",
              "      <td>20</td>\n",
              "      <td>2005-11-01</td>\n",
              "      <td>1993-08-01</td>\n",
              "      <td>6424703</td>\n",
              "      <td>35534000</td>\n",
              "      <td>4289</td>\n",
              "      <td>Cooperativas de crédito mútuo</td>\n",
              "      <td>2143</td>\n",
              "      <td>0.0</td>\n",
              "      <td>demais</td>\n",
              "      <td>Cooperativa</td>\n",
              "      <td>COOPERATIVA DE CREDITO DO CENTRO SUL MINEIRO L...</td>\n",
              "      <td>NaN</td>\n",
              "      <td>2</td>\n",
              "    </tr>\n",
              "  </tbody>\n",
              "</table>\n",
              "</div>"
            ],
            "text/plain": [
              "            id                        cliente  ... cnae_secundario label\n",
              "0  382320001MG  BANCO COOPERATIVO SICOOB S.A.  ...             NaN     2\n",
              "1  382320001MG  BANCO COOPERATIVO SICOOB S.A.  ...             NaN     2\n",
              "2  382320001MG  BANCO COOPERATIVO SICOOB S.A.  ...             NaN     2\n",
              "3  382320001MG  BANCO COOPERATIVO SICOOB S.A.  ...             NaN     2\n",
              "4  382320001MG  BANCO COOPERATIVO SICOOB S.A.  ...             NaN     2\n",
              "\n",
              "[5 rows x 53 columns]"
            ]
          },
          "metadata": {},
          "execution_count": 132
        }
      ]
    },
    {
      "cell_type": "code",
      "metadata": {
        "colab": {
          "base_uri": "https://localhost:8080/"
        },
        "id": "4mYPnOXTVyTR",
        "outputId": "690e2e5e-f501-414e-971d-a84e8e8dabc2"
      },
      "source": [
        "print(df_op.shape)\n",
        "print(df_cross.shape)"
      ],
      "execution_count": null,
      "outputs": [
        {
          "output_type": "stream",
          "text": [
            "(102085, 10)\n",
            "(16542, 54)\n"
          ],
          "name": "stdout"
        }
      ]
    },
    {
      "cell_type": "markdown",
      "metadata": {
        "id": "jqXKlm6UTWVC"
      },
      "source": [
        "# Join Op -> Cross table"
      ]
    },
    {
      "cell_type": "code",
      "metadata": {
        "id": "KEBq094ETcD-"
      },
      "source": [
        "df_clean = df_op[df_op['id'].isin(df_cross['id'])]"
      ],
      "execution_count": null,
      "outputs": []
    },
    {
      "cell_type": "code",
      "metadata": {
        "colab": {
          "base_uri": "https://localhost:8080/"
        },
        "id": "BXaD0FvfTcuP",
        "outputId": "77052793-6a6a-4a6e-d7cc-ee40db45a786"
      },
      "source": [
        "print(df_clean.shape)\n",
        "print(df_cross.shape)"
      ],
      "execution_count": null,
      "outputs": [
        {
          "output_type": "stream",
          "text": [
            "(16540, 10)\n",
            "(16542, 54)\n"
          ],
          "name": "stdout"
        }
      ]
    },
    {
      "cell_type": "code",
      "metadata": {
        "id": "FTKMbX_4Yv2r"
      },
      "source": [
        "d_id = df_clean[['id', 'label']]"
      ],
      "execution_count": null,
      "outputs": []
    },
    {
      "cell_type": "code",
      "metadata": {
        "id": "cIZtqWBenqul"
      },
      "source": [
        "dfx = df_cross.copy()"
      ],
      "execution_count": null,
      "outputs": []
    },
    {
      "cell_type": "code",
      "metadata": {
        "colab": {
          "base_uri": "https://localhost:8080/"
        },
        "id": "FH-cqN0jqmTb",
        "outputId": "c732c3c4-5600-40bc-d2c0-cd47c7c571ae"
      },
      "source": [
        "dfx.shape"
      ],
      "execution_count": null,
      "outputs": [
        {
          "output_type": "execute_result",
          "data": {
            "text/plain": [
              "(16542, 55)"
            ]
          },
          "metadata": {},
          "execution_count": 43
        }
      ]
    },
    {
      "cell_type": "code",
      "metadata": {
        "id": "0ZOsiu6jq7Xt"
      },
      "source": [
        "dfx['label'] = None"
      ],
      "execution_count": null,
      "outputs": []
    },
    {
      "cell_type": "code",
      "metadata": {
        "colab": {
          "base_uri": "https://localhost:8080/"
        },
        "id": "OoGfCb7VyhGr",
        "outputId": "f952df52-51b6-41cd-94e5-a378eea8fbf0"
      },
      "source": [
        "df_cross['id'].value_counts()"
      ],
      "execution_count": null,
      "outputs": [
        {
          "output_type": "execute_result",
          "data": {
            "text/plain": [
              "382320001MG    4843\n",
              "043830001PR     659\n",
              "937310001PR     425\n",
              "632230001PR     400\n",
              "522930001PR     354\n",
              "               ... \n",
              "408400001SP       1\n",
              "857130001SC       1\n",
              "304140001RS       1\n",
              "300030001SC       1\n",
              "681540001SC       1\n",
              "Name: id, Length: 559, dtype: int64"
            ]
          },
          "metadata": {},
          "execution_count": 126
        }
      ]
    },
    {
      "cell_type": "code",
      "metadata": {
        "colab": {
          "base_uri": "https://localhost:8080/"
        },
        "id": "gEi2QJC9zTDz",
        "outputId": "ca572726-adaa-4240-ec20-dfec600735f2"
      },
      "source": [
        "d_id['id'].value_counts()"
      ],
      "execution_count": null,
      "outputs": [
        {
          "output_type": "execute_result",
          "data": {
            "text/plain": [
              "382320001MG    4843\n",
              "043830001PR     659\n",
              "937310001PR     425\n",
              "632230001PR     400\n",
              "522930001PR     354\n",
              "               ... \n",
              "139340001RS       1\n",
              "857130001SC       1\n",
              "304140001RS       1\n",
              "300030001SC       1\n",
              "681540001SC       1\n",
              "Name: id, Length: 559, dtype: int64"
            ]
          },
          "metadata": {},
          "execution_count": 127
        }
      ]
    },
    {
      "cell_type": "code",
      "metadata": {
        "id": "vLTeKX88ne_l"
      },
      "source": [
        "for i in range(df_cross.shape[0]):\n",
        "  for j in range(df_cross.shape[0]):\n",
        "    if d_id.iloc[i, 0] == df_cross.iloc[j, 36]:\n",
        "      dfx.iloc[i, 54] = d_id.iloc[i, 1]"
      ],
      "execution_count": null,
      "outputs": []
    },
    {
      "cell_type": "code",
      "metadata": {
        "colab": {
          "base_uri": "https://localhost:8080/"
        },
        "id": "GgpAeUpwxFPg",
        "outputId": "27e615ab-1a81-4e8a-e1c2-a2b6d6ee4df6"
      },
      "source": [
        "k=0\n",
        "for i in dfx['label']:\n",
        "  if i == 0:\n",
        "    print(k)\n",
        "    k += 1\n",
        "  else:\n",
        "    break"
      ],
      "execution_count": null,
      "outputs": [
        {
          "output_type": "stream",
          "text": [
            "0\n",
            "1\n",
            "2\n",
            "3\n",
            "4\n",
            "5\n",
            "6\n",
            "7\n",
            "8\n",
            "9\n",
            "10\n",
            "11\n",
            "12\n",
            "13\n",
            "14\n",
            "15\n"
          ],
          "name": "stdout"
        }
      ]
    },
    {
      "cell_type": "code",
      "metadata": {
        "colab": {
          "base_uri": "https://localhost:8080/",
          "height": 205
        },
        "id": "YipbM3iUrs2m",
        "outputId": "2629e54e-6973-46b8-f8a7-0db99c4b6cdd"
      },
      "source": [
        "d_id.head()"
      ],
      "execution_count": null,
      "outputs": [
        {
          "output_type": "execute_result",
          "data": {
            "text/html": [
              "<div>\n",
              "<style scoped>\n",
              "    .dataframe tbody tr th:only-of-type {\n",
              "        vertical-align: middle;\n",
              "    }\n",
              "\n",
              "    .dataframe tbody tr th {\n",
              "        vertical-align: top;\n",
              "    }\n",
              "\n",
              "    .dataframe thead th {\n",
              "        text-align: right;\n",
              "    }\n",
              "</style>\n",
              "<table border=\"1\" class=\"dataframe\">\n",
              "  <thead>\n",
              "    <tr style=\"text-align: right;\">\n",
              "      <th></th>\n",
              "      <th>id</th>\n",
              "      <th>label</th>\n",
              "    </tr>\n",
              "  </thead>\n",
              "  <tbody>\n",
              "    <tr>\n",
              "      <th>2</th>\n",
              "      <td>382320001MG</td>\n",
              "      <td>0</td>\n",
              "    </tr>\n",
              "    <tr>\n",
              "      <th>3</th>\n",
              "      <td>382320001MG</td>\n",
              "      <td>0</td>\n",
              "    </tr>\n",
              "    <tr>\n",
              "      <th>7</th>\n",
              "      <td>382320001MG</td>\n",
              "      <td>0</td>\n",
              "    </tr>\n",
              "    <tr>\n",
              "      <th>8</th>\n",
              "      <td>382320001MG</td>\n",
              "      <td>0</td>\n",
              "    </tr>\n",
              "    <tr>\n",
              "      <th>9</th>\n",
              "      <td>382320001MG</td>\n",
              "      <td>0</td>\n",
              "    </tr>\n",
              "  </tbody>\n",
              "</table>\n",
              "</div>"
            ],
            "text/plain": [
              "            id  label\n",
              "2  382320001MG      0\n",
              "3  382320001MG      0\n",
              "7  382320001MG      0\n",
              "8  382320001MG      0\n",
              "9  382320001MG      0"
            ]
          },
          "metadata": {},
          "execution_count": 73
        }
      ]
    },
    {
      "cell_type": "code",
      "metadata": {
        "colab": {
          "base_uri": "https://localhost:8080/",
          "height": 205
        },
        "id": "FktDGXQ0q2dr",
        "outputId": "5b42ed64-ce1f-4af1-fd68-3f8c988ccab4"
      },
      "source": [
        "dfx[['id', 'label']].head()"
      ],
      "execution_count": null,
      "outputs": [
        {
          "output_type": "execute_result",
          "data": {
            "text/html": [
              "<div>\n",
              "<style scoped>\n",
              "    .dataframe tbody tr th:only-of-type {\n",
              "        vertical-align: middle;\n",
              "    }\n",
              "\n",
              "    .dataframe tbody tr th {\n",
              "        vertical-align: top;\n",
              "    }\n",
              "\n",
              "    .dataframe thead th {\n",
              "        text-align: right;\n",
              "    }\n",
              "</style>\n",
              "<table border=\"1\" class=\"dataframe\">\n",
              "  <thead>\n",
              "    <tr style=\"text-align: right;\">\n",
              "      <th></th>\n",
              "      <th>id</th>\n",
              "      <th>label</th>\n",
              "    </tr>\n",
              "  </thead>\n",
              "  <tbody>\n",
              "    <tr>\n",
              "      <th>0</th>\n",
              "      <td>382320001MG</td>\n",
              "      <td>0</td>\n",
              "    </tr>\n",
              "    <tr>\n",
              "      <th>1</th>\n",
              "      <td>382320001MG</td>\n",
              "      <td>0</td>\n",
              "    </tr>\n",
              "    <tr>\n",
              "      <th>2</th>\n",
              "      <td>382320001MG</td>\n",
              "      <td>0</td>\n",
              "    </tr>\n",
              "    <tr>\n",
              "      <th>3</th>\n",
              "      <td>382320001MG</td>\n",
              "      <td>0</td>\n",
              "    </tr>\n",
              "    <tr>\n",
              "      <th>4</th>\n",
              "      <td>382320001MG</td>\n",
              "      <td>0</td>\n",
              "    </tr>\n",
              "  </tbody>\n",
              "</table>\n",
              "</div>"
            ],
            "text/plain": [
              "            id label\n",
              "0  382320001MG     0\n",
              "1  382320001MG     0\n",
              "2  382320001MG     0\n",
              "3  382320001MG     0\n",
              "4  382320001MG     0"
            ]
          },
          "metadata": {},
          "execution_count": 82
        }
      ]
    },
    {
      "cell_type": "code",
      "metadata": {
        "id": "1lHfq7LMtNGL"
      },
      "source": [
        "check = []\n",
        "\n",
        "for i in range(df_cross.shape[0]):\n",
        "  check.append(d_id.iloc[i, 1] == dfx.iloc[i, 54])"
      ],
      "execution_count": null,
      "outputs": []
    },
    {
      "cell_type": "code",
      "metadata": {
        "colab": {
          "base_uri": "https://localhost:8080/"
        },
        "id": "c1s30KwHtrKY",
        "outputId": "a17c43e0-704e-4f06-eb7c-cfbe9174a3a3"
      },
      "source": [
        "print(check.count(True))\n",
        "print(check.count(False))"
      ],
      "execution_count": null,
      "outputs": [
        {
          "output_type": "stream",
          "text": [
            "95\n",
            "16445\n"
          ],
          "name": "stdout"
        }
      ]
    },
    {
      "cell_type": "code",
      "metadata": {
        "id": "Ij6MWn0gqAnd"
      },
      "source": [
        "dfx = dfx.drop('label', axis=1)"
      ],
      "execution_count": null,
      "outputs": []
    },
    {
      "cell_type": "code",
      "metadata": {
        "id": "nmCxJt4IeIOM"
      },
      "source": [
        "data1 = pd.merge(df_cross, d_id, how='left', left_on='id', right_on='id', copy=False)"
      ],
      "execution_count": null,
      "outputs": []
    },
    {
      "cell_type": "code",
      "metadata": {
        "id": "O2oc1Cx2XRMu"
      },
      "source": [
        "data1 = pd.concat([df_cross, d_id])"
      ],
      "execution_count": null,
      "outputs": []
    },
    {
      "cell_type": "code",
      "metadata": {
        "colab": {
          "base_uri": "https://localhost:8080/"
        },
        "id": "gx8YHYEpaXYk",
        "outputId": "6591422b-992e-4b13-b234-99a7f252ecf1"
      },
      "source": [
        "print(df_cross.shape)\n",
        "data1.shape"
      ],
      "execution_count": null,
      "outputs": [
        {
          "output_type": "stream",
          "text": [
            "(16542, 54)\n"
          ],
          "name": "stdout"
        },
        {
          "output_type": "execute_result",
          "data": {
            "text/plain": [
              "(33082, 55)"
            ]
          },
          "metadata": {},
          "execution_count": 43
        }
      ]
    },
    {
      "cell_type": "markdown",
      "metadata": {
        "id": "-kfdQF7wTdBw"
      },
      "source": [
        "## Modelo teste"
      ]
    },
    {
      "cell_type": "code",
      "metadata": {
        "colab": {
          "base_uri": "https://localhost:8080/",
          "height": 292
        },
        "id": "TDUVsC6A53lu",
        "outputId": "9c5fa8b1-94c0-43bf-af24-e58ed2464978"
      },
      "source": [
        "df.head()"
      ],
      "execution_count": null,
      "outputs": [
        {
          "output_type": "execute_result",
          "data": {
            "text/html": [
              "<div>\n",
              "<style scoped>\n",
              "    .dataframe tbody tr th:only-of-type {\n",
              "        vertical-align: middle;\n",
              "    }\n",
              "\n",
              "    .dataframe tbody tr th {\n",
              "        vertical-align: top;\n",
              "    }\n",
              "\n",
              "    .dataframe thead th {\n",
              "        text-align: right;\n",
              "    }\n",
              "</style>\n",
              "<table border=\"1\" class=\"dataframe\">\n",
              "  <thead>\n",
              "    <tr style=\"text-align: right;\">\n",
              "      <th></th>\n",
              "      <th>cliente</th>\n",
              "      <th>setor_cnae</th>\n",
              "      <th>porte_do_cliente</th>\n",
              "      <th>juros</th>\n",
              "      <th>valor_em_reais</th>\n",
              "      <th>prazo_carencia_meses</th>\n",
              "      <th>prazo_amortizacao_meses</th>\n",
              "      <th>valor_contratado_reais</th>\n",
              "      <th>label</th>\n",
              "    </tr>\n",
              "  </thead>\n",
              "  <tbody>\n",
              "    <tr>\n",
              "      <th>0</th>\n",
              "      <td>BANCO COOPERATIVO SICOOB S.A.</td>\n",
              "      <td>0</td>\n",
              "      <td>0</td>\n",
              "      <td>8.75</td>\n",
              "      <td>16000.0</td>\n",
              "      <td>24</td>\n",
              "      <td>36</td>\n",
              "      <td>16000.0</td>\n",
              "      <td>5</td>\n",
              "    </tr>\n",
              "    <tr>\n",
              "      <th>1</th>\n",
              "      <td>BANCO COOPERATIVO SICOOB S.A.</td>\n",
              "      <td>0</td>\n",
              "      <td>0</td>\n",
              "      <td>8.75</td>\n",
              "      <td>30447.0</td>\n",
              "      <td>24</td>\n",
              "      <td>36</td>\n",
              "      <td>30447.0</td>\n",
              "      <td>5</td>\n",
              "    </tr>\n",
              "    <tr>\n",
              "      <th>2</th>\n",
              "      <td>BANCO COOPERATIVO SICOOB S.A.</td>\n",
              "      <td>0</td>\n",
              "      <td>0</td>\n",
              "      <td>4.00</td>\n",
              "      <td>5000.0</td>\n",
              "      <td>12</td>\n",
              "      <td>54</td>\n",
              "      <td>5000.0</td>\n",
              "      <td>9</td>\n",
              "    </tr>\n",
              "    <tr>\n",
              "      <th>3</th>\n",
              "      <td>BANCO COOPERATIVO SICOOB S.A.</td>\n",
              "      <td>0</td>\n",
              "      <td>0</td>\n",
              "      <td>8.75</td>\n",
              "      <td>25000.0</td>\n",
              "      <td>0</td>\n",
              "      <td>60</td>\n",
              "      <td>25000.0</td>\n",
              "      <td>5</td>\n",
              "    </tr>\n",
              "    <tr>\n",
              "      <th>4</th>\n",
              "      <td>BANCO COOPERATIVO SICOOB S.A.</td>\n",
              "      <td>0</td>\n",
              "      <td>0</td>\n",
              "      <td>8.75</td>\n",
              "      <td>20326.0</td>\n",
              "      <td>12</td>\n",
              "      <td>48</td>\n",
              "      <td>20326.0</td>\n",
              "      <td>5</td>\n",
              "    </tr>\n",
              "  </tbody>\n",
              "</table>\n",
              "</div>"
            ],
            "text/plain": [
              "                         cliente  setor_cnae  ...  valor_contratado_reais  label\n",
              "0  BANCO COOPERATIVO SICOOB S.A.           0  ...                 16000.0      5\n",
              "1  BANCO COOPERATIVO SICOOB S.A.           0  ...                 30447.0      5\n",
              "2  BANCO COOPERATIVO SICOOB S.A.           0  ...                  5000.0      9\n",
              "3  BANCO COOPERATIVO SICOOB S.A.           0  ...                 25000.0      5\n",
              "4  BANCO COOPERATIVO SICOOB S.A.           0  ...                 20326.0      5\n",
              "\n",
              "[5 rows x 9 columns]"
            ]
          },
          "metadata": {},
          "execution_count": 466
        }
      ]
    },
    {
      "cell_type": "code",
      "metadata": {
        "id": "g_TXIfVb59yK"
      },
      "source": [
        "X = df.drop(['cliente', 'label'], axis=1)\n",
        "y = df['label']"
      ],
      "execution_count": null,
      "outputs": []
    },
    {
      "cell_type": "code",
      "metadata": {
        "id": "hhd4UgCc6DQF"
      },
      "source": [
        "X_train, X_test, y_train, y_test = train_test_split(X, y, test_size=0.4, random_state=42)"
      ],
      "execution_count": null,
      "outputs": []
    },
    {
      "cell_type": "code",
      "metadata": {
        "id": "mInKkZLqDEWi"
      },
      "source": [
        "pipe = Pipeline([('knn', KNeighborsClassifier())])"
      ],
      "execution_count": null,
      "outputs": []
    },
    {
      "cell_type": "code",
      "metadata": {
        "colab": {
          "base_uri": "https://localhost:8080/"
        },
        "id": "rGmmD1FDDbzu",
        "outputId": "d5f737e2-b2e1-4b7d-c5af-267a37539909"
      },
      "source": [
        "pipe.fit(X_train, y_train)"
      ],
      "execution_count": null,
      "outputs": [
        {
          "output_type": "execute_result",
          "data": {
            "text/plain": [
              "Pipeline(memory=None,\n",
              "         steps=[('knn',\n",
              "                 KNeighborsClassifier(algorithm='auto', leaf_size=30,\n",
              "                                      metric='minkowski', metric_params=None,\n",
              "                                      n_jobs=None, n_neighbors=5, p=2,\n",
              "                                      weights='uniform'))],\n",
              "         verbose=False)"
            ]
          },
          "metadata": {},
          "execution_count": 400
        }
      ]
    },
    {
      "cell_type": "code",
      "metadata": {
        "colab": {
          "base_uri": "https://localhost:8080/"
        },
        "id": "NGSDZzV8Dbwz",
        "outputId": "43d2cc16-067d-4281-ed7c-216fb2c3af2a"
      },
      "source": [
        "pipe.score(X_test, y_test)"
      ],
      "execution_count": null,
      "outputs": [
        {
          "output_type": "execute_result",
          "data": {
            "text/plain": [
              "0.9999265318117255"
            ]
          },
          "metadata": {},
          "execution_count": 401
        }
      ]
    },
    {
      "cell_type": "code",
      "metadata": {
        "colab": {
          "base_uri": "https://localhost:8080/"
        },
        "id": "gnvngqoADbuw",
        "outputId": "c2c081ce-4d88-475d-fcc3-67f8df7e83dd"
      },
      "source": [
        "y_pred = pipe.predict(X_test)\n",
        "print(classification_report(y_test, y_pred))"
      ],
      "execution_count": null,
      "outputs": [
        {
          "output_type": "stream",
          "text": [
            "              precision    recall  f1-score   support\n",
            "\n",
            "           0       1.00      0.99      0.99      1883\n",
            "           1       0.99      0.97      0.98       791\n",
            "           2       0.99      0.99      0.99      1479\n",
            "           3       0.98      0.99      0.99      2464\n",
            "\n",
            "    accuracy                           0.99      6617\n",
            "   macro avg       0.99      0.99      0.99      6617\n",
            "weighted avg       0.99      0.99      0.99      6617\n",
            "\n"
          ],
          "name": "stdout"
        }
      ]
    },
    {
      "cell_type": "code",
      "metadata": {
        "id": "ZFZDLh4-DbsM"
      },
      "source": [
        "pred = [3, 2, 2, 10, 3977500]\n",
        "p = pipe.predict([pred])"
      ],
      "execution_count": null,
      "outputs": []
    },
    {
      "cell_type": "code",
      "metadata": {
        "colab": {
          "base_uri": "https://localhost:8080/"
        },
        "id": "4Kkp-hAXHP9c",
        "outputId": "d5b22362-8683-4b4d-936d-0c579edc6eda"
      },
      "source": [
        "p"
      ],
      "execution_count": null,
      "outputs": [
        {
          "output_type": "execute_result",
          "data": {
            "text/plain": [
              "array([3])"
            ]
          },
          "metadata": {},
          "execution_count": 237
        }
      ]
    },
    {
      "cell_type": "code",
      "metadata": {
        "id": "JbomDcESG9uT"
      },
      "source": [
        "xd = df[df['label'] == p[0]]"
      ],
      "execution_count": null,
      "outputs": []
    },
    {
      "cell_type": "code",
      "metadata": {
        "colab": {
          "base_uri": "https://localhost:8080/"
        },
        "id": "9vxPVoq9Dbm9",
        "outputId": "fad14c8d-84c4-47cb-f918-ac9156b17fe3"
      },
      "source": [
        " df.groupby('label')['cliente'].value_counts()[1]"
      ],
      "execution_count": null,
      "outputs": [
        {
          "output_type": "execute_result",
          "data": {
            "text/plain": [
              "label  cliente                                                \n",
              "3      COAMO AGROINDUSTRIAL COOPERATIVA                           312\n",
              "       C.VALE - COOPERATIVA AGROINDUSTRIAL                        281\n",
              "       COOPERATIVA REGIONAL AGROPECUARIA DE CAMPOS NOVOS          214\n",
              "       LAR COOPERATIVA AGROINDUSTRIAL                             212\n",
              "       COPACOL-COOPERATIVA AGROINDUSTRIAL CONSOLATA               188\n",
              "                                                                 ... \n",
              "       UNIMED SUDOESTE DE MINAS COOPERATIVA DE TRABALHO MEDICO      1\n",
              "       UNIMED TEOFILO OTONI COOPERATIVA DE TRABALHO MEDICO          1\n",
              "       UNIMED VALE DO PIQUIRI COOP TRAB MEDICO VALE DO PIQUIRI      1\n",
              "       UNIMED VITORIA COOPERATIVA DE TRABALHO MEDICO                1\n",
              "       UNIMED-RIO COOP DE TRABALHO MEDICO DO RIO JANEIRO LTDA       1\n",
              "Name: cliente, Length: 383, dtype: int64"
            ]
          },
          "metadata": {},
          "execution_count": 294
        }
      ]
    },
    {
      "cell_type": "code",
      "metadata": {
        "id": "xwu6A_vQIW2K"
      },
      "source": [
        "aba = xd.groupby('label')['cliente'].value_counts()"
      ],
      "execution_count": null,
      "outputs": []
    },
    {
      "cell_type": "code",
      "metadata": {
        "colab": {
          "base_uri": "https://localhost:8080/"
        },
        "id": "WMPAohmhKfjv",
        "outputId": "5eebe9e5-537c-4e2a-b4fe-405f2ee8df0b"
      },
      "source": [
        "xd.groupby('label')['cliente'].value_counts()"
      ],
      "execution_count": null,
      "outputs": [
        {
          "output_type": "execute_result",
          "data": {
            "text/plain": [
              "label  cliente                                                \n",
              "3      COAMO AGROINDUSTRIAL COOPERATIVA                           312\n",
              "       C.VALE - COOPERATIVA AGROINDUSTRIAL                        281\n",
              "       COOPERATIVA REGIONAL AGROPECUARIA DE CAMPOS NOVOS          214\n",
              "       LAR COOPERATIVA AGROINDUSTRIAL                             212\n",
              "       COPACOL-COOPERATIVA AGROINDUSTRIAL CONSOLATA               188\n",
              "                                                                 ... \n",
              "       UNIMED SUDOESTE DE MINAS COOPERATIVA DE TRABALHO MEDICO      1\n",
              "       UNIMED TEOFILO OTONI COOPERATIVA DE TRABALHO MEDICO          1\n",
              "       UNIMED VALE DO PIQUIRI COOP TRAB MEDICO VALE DO PIQUIRI      1\n",
              "       UNIMED VITORIA COOPERATIVA DE TRABALHO MEDICO                1\n",
              "       UNIMED-RIO COOP DE TRABALHO MEDICO DO RIO JANEIRO LTDA       1\n",
              "Name: cliente, Length: 383, dtype: int64"
            ]
          },
          "metadata": {},
          "execution_count": 300
        }
      ]
    },
    {
      "cell_type": "code",
      "metadata": {
        "id": "ObBQ3gdRJ3ME"
      },
      "source": [
        "dtt = pd.DataFrame(aba)"
      ],
      "execution_count": null,
      "outputs": []
    },
    {
      "cell_type": "code",
      "metadata": {
        "colab": {
          "base_uri": "https://localhost:8080/",
          "height": 454
        },
        "id": "oBrr8AltJ7ub",
        "outputId": "827672ef-de56-4f1e-ea4a-063a5fd7baaa"
      },
      "source": [
        "dtt"
      ],
      "execution_count": null,
      "outputs": [
        {
          "output_type": "execute_result",
          "data": {
            "text/html": [
              "<div>\n",
              "<style scoped>\n",
              "    .dataframe tbody tr th:only-of-type {\n",
              "        vertical-align: middle;\n",
              "    }\n",
              "\n",
              "    .dataframe tbody tr th {\n",
              "        vertical-align: top;\n",
              "    }\n",
              "\n",
              "    .dataframe thead th {\n",
              "        text-align: right;\n",
              "    }\n",
              "</style>\n",
              "<table border=\"1\" class=\"dataframe\">\n",
              "  <thead>\n",
              "    <tr style=\"text-align: right;\">\n",
              "      <th></th>\n",
              "      <th></th>\n",
              "      <th>cliente</th>\n",
              "    </tr>\n",
              "    <tr>\n",
              "      <th>label</th>\n",
              "      <th>cliente</th>\n",
              "      <th></th>\n",
              "    </tr>\n",
              "  </thead>\n",
              "  <tbody>\n",
              "    <tr>\n",
              "      <th rowspan=\"11\" valign=\"top\">3</th>\n",
              "      <th>COAMO AGROINDUSTRIAL COOPERATIVA</th>\n",
              "      <td>312</td>\n",
              "    </tr>\n",
              "    <tr>\n",
              "      <th>C.VALE - COOPERATIVA AGROINDUSTRIAL</th>\n",
              "      <td>281</td>\n",
              "    </tr>\n",
              "    <tr>\n",
              "      <th>COOPERATIVA REGIONAL AGROPECUARIA DE CAMPOS NOVOS</th>\n",
              "      <td>214</td>\n",
              "    </tr>\n",
              "    <tr>\n",
              "      <th>LAR COOPERATIVA AGROINDUSTRIAL</th>\n",
              "      <td>212</td>\n",
              "    </tr>\n",
              "    <tr>\n",
              "      <th>COPACOL-COOPERATIVA AGROINDUSTRIAL CONSOLATA</th>\n",
              "      <td>188</td>\n",
              "    </tr>\n",
              "    <tr>\n",
              "      <th>...</th>\n",
              "      <td>...</td>\n",
              "    </tr>\n",
              "    <tr>\n",
              "      <th>UNIMED SUDOESTE DE MINAS COOPERATIVA DE TRABALHO MEDICO</th>\n",
              "      <td>1</td>\n",
              "    </tr>\n",
              "    <tr>\n",
              "      <th>UNIMED TEOFILO OTONI COOPERATIVA DE TRABALHO MEDICO</th>\n",
              "      <td>1</td>\n",
              "    </tr>\n",
              "    <tr>\n",
              "      <th>UNIMED VALE DO PIQUIRI COOP TRAB MEDICO VALE DO PIQUIRI</th>\n",
              "      <td>1</td>\n",
              "    </tr>\n",
              "    <tr>\n",
              "      <th>UNIMED VITORIA COOPERATIVA DE TRABALHO MEDICO</th>\n",
              "      <td>1</td>\n",
              "    </tr>\n",
              "    <tr>\n",
              "      <th>UNIMED-RIO COOP DE TRABALHO MEDICO DO RIO JANEIRO LTDA</th>\n",
              "      <td>1</td>\n",
              "    </tr>\n",
              "  </tbody>\n",
              "</table>\n",
              "<p>383 rows × 1 columns</p>\n",
              "</div>"
            ],
            "text/plain": [
              "                                                          cliente\n",
              "label cliente                                                    \n",
              "3     COAMO AGROINDUSTRIAL COOPERATIVA                        312\n",
              "      C.VALE - COOPERATIVA AGROINDUSTRIAL                     281\n",
              "      COOPERATIVA REGIONAL AGROPECUARIA DE CAMPOS NOVOS       214\n",
              "      LAR COOPERATIVA AGROINDUSTRIAL                          212\n",
              "      COPACOL-COOPERATIVA AGROINDUSTRIAL CONSOLATA            188\n",
              "...                                                           ...\n",
              "      UNIMED SUDOESTE DE MINAS COOPERATIVA DE TRABALH...        1\n",
              "      UNIMED TEOFILO OTONI COOPERATIVA DE TRABALHO ME...        1\n",
              "      UNIMED VALE DO PIQUIRI COOP TRAB MEDICO VALE DO...        1\n",
              "      UNIMED VITORIA COOPERATIVA DE TRABALHO MEDICO             1\n",
              "      UNIMED-RIO COOP DE TRABALHO MEDICO DO RIO JANEI...        1\n",
              "\n",
              "[383 rows x 1 columns]"
            ]
          },
          "metadata": {},
          "execution_count": 305
        }
      ]
    },
    {
      "cell_type": "code",
      "metadata": {
        "colab": {
          "base_uri": "https://localhost:8080/"
        },
        "id": "96amWPjXJUxX",
        "outputId": "23c4a6d5-3105-49f4-b8d8-65c0d6338b9f"
      },
      "source": [
        "for i, coop in enumerate(dtt):\n",
        "    print(i, coop)"
      ],
      "execution_count": null,
      "outputs": [
        {
          "output_type": "stream",
          "text": [
            "0 cliente\n"
          ],
          "name": "stdout"
        }
      ]
    },
    {
      "cell_type": "code",
      "metadata": {
        "id": "ozqxtCVN6SA8"
      },
      "source": [
        "knn = KNeighborsClassifier().fit(X_train, y_train)"
      ],
      "execution_count": null,
      "outputs": []
    },
    {
      "cell_type": "code",
      "metadata": {
        "colab": {
          "base_uri": "https://localhost:8080/"
        },
        "id": "t23msGgJ6WEB",
        "outputId": "4676f192-f560-45a9-e084-7a20dca9cc14"
      },
      "source": [
        "knn.score(X_test, y_test)"
      ],
      "execution_count": null,
      "outputs": [
        {
          "output_type": "execute_result",
          "data": {
            "text/plain": [
              "0.9910835726159891"
            ]
          },
          "metadata": {},
          "execution_count": 201
        }
      ]
    },
    {
      "cell_type": "code",
      "metadata": {
        "id": "bEDZBMm26fjU"
      },
      "source": [
        "pred = [0, 0, 0, 4, 3977500]"
      ],
      "execution_count": null,
      "outputs": []
    },
    {
      "cell_type": "code",
      "metadata": {
        "colab": {
          "base_uri": "https://localhost:8080/"
        },
        "id": "0cCGXTXk6d6-",
        "outputId": "0a663f71-87a3-4ef7-fcfb-b3e856f2801c"
      },
      "source": [
        "knn.predict([pred])"
      ],
      "execution_count": null,
      "outputs": [
        {
          "output_type": "execute_result",
          "data": {
            "text/plain": [
              "array([0])"
            ]
          },
          "metadata": {},
          "execution_count": 203
        }
      ]
    },
    {
      "cell_type": "markdown",
      "metadata": {
        "id": "gGpmK9MsBo5x"
      },
      "source": [
        "# Metrics"
      ]
    },
    {
      "cell_type": "code",
      "metadata": {
        "id": "nNfqX4jWBrZY"
      },
      "source": [
        "y_pred = knn.predict(X_test)"
      ],
      "execution_count": null,
      "outputs": []
    },
    {
      "cell_type": "code",
      "metadata": {
        "colab": {
          "base_uri": "https://localhost:8080/"
        },
        "id": "dZOtKBaNBoeR",
        "outputId": "f79dffc9-4f0e-4a8f-97c6-0f4eb724e171"
      },
      "source": [
        "print(classification_report(y_test, y_pred))"
      ],
      "execution_count": null,
      "outputs": [
        {
          "output_type": "stream",
          "text": [
            "              precision    recall  f1-score   support\n",
            "\n",
            "           0       0.94      0.94      0.94      1490\n",
            "           1       0.82      0.93      0.87      2508\n",
            "           2       0.91      0.69      0.78       785\n",
            "           3       0.89      0.82      0.85      1834\n",
            "\n",
            "    accuracy                           0.87      6617\n",
            "   macro avg       0.89      0.84      0.86      6617\n",
            "weighted avg       0.88      0.87      0.87      6617\n",
            "\n"
          ],
          "name": "stdout"
        }
      ]
    }
  ]
}